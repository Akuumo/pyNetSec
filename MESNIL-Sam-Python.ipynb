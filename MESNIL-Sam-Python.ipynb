{
 "cells": [
  {
   "cell_type": "markdown",
   "metadata": {},
   "source": [
    "# 6. Interrogation du DNS avec Python"
   ]
  },
  {
   "cell_type": "markdown",
   "metadata": {},
   "source": [
    "### 1. On utilise le module Python socket afin de résoudre www.iutbeziers.fr en adresse IP."
   ]
  },
  {
   "cell_type": "code",
   "execution_count": 1,
   "metadata": {},
   "outputs": [
    {
     "name": "stdout",
     "output_type": "stream",
     "text": [
      "194.199.227.80\n"
     ]
    }
   ],
   "source": [
    "import socket\n",
    "print(socket.gethostbyname('www.iutbeziers.fr'))"
   ]
  },
  {
   "cell_type": "markdown",
   "metadata": {},
   "source": [
    "### 2. On utilise le module dnspython afin de résoudre www.iutbeziers.fr en adresse IP et reciproquement."
   ]
  },
  {
   "cell_type": "code",
   "execution_count": 63,
   "metadata": {},
   "outputs": [
    {
     "name": "stdout",
     "output_type": "stream",
     "text": [
      "IP :  194.199.227.80\n",
      "URL:  www.iutbeziers.fr.\n"
     ]
    }
   ],
   "source": [
    "import dns.resolver\n",
    "import dns.reversename as rvrname\n",
    "\n",
    "rslv = dns.resolver.Resolver()\n",
    "\n",
    "ipqry = rslv.query('www.iutbeziers.fr')\n",
    "ip  = qry[0].address\n",
    "rvqry = rvrname.from_address(ip)\n",
    "rv = rslv.query(rvqry,'PTR')\n",
    "\n",
    "print(\"IP : \", ip )\n",
    "print(\"URL: \", rv[0])"
   ]
  },
  {
   "cell_type": "markdown",
   "metadata": {},
   "source": [
    "### 3. On donne la liste des NS, des MX du domaine iutbeziers.fr.\n",
    "\n",
    "#### NS."
   ]
  },
  {
   "cell_type": "code",
   "execution_count": 61,
   "metadata": {},
   "outputs": [
    {
     "name": "stdout",
     "output_type": "stream",
     "text": [
      "scribe.iutbeziers.fr.\n"
     ]
    }
   ],
   "source": [
    "import dns.resolver as rslv\n",
    "\n",
    "dnsQry = rslv.query('iutbeziers.fr', 'NS')\n",
    "\n",
    "for res in dnsQry:\n",
    "    print(res)"
   ]
  },
  {
   "cell_type": "markdown",
   "metadata": {},
   "source": [
    "#### MX"
   ]
  },
  {
   "cell_type": "code",
   "execution_count": 62,
   "metadata": {},
   "outputs": [
    {
     "name": "stdout",
     "output_type": "stream",
     "text": [
      "10 mail.iutbeziers.fr.\n"
     ]
    }
   ],
   "source": [
    "import dns.resolver as rslv\n",
    "\n",
    "dnsQry = rslv.query('iutbeziers.fr', 'MX')\n",
    "\n",
    "for res in dnsQry:\n",
    "    print(res)"
   ]
  },
  {
   "cell_type": "markdown",
   "metadata": {},
   "source": [
    "### 4. On retrouve le resolver de votre container."
   ]
  },
  {
   "cell_type": "code",
   "execution_count": null,
   "metadata": {},
   "outputs": [],
   "source": [
    "import dns.resolver\n",
    "\n",
    "rsvl = dns.resolver.Resolver()\n",
    "    \n",
    "print(rsvl.nameservers)"
   ]
  },
  {
   "cell_type": "markdown",
   "metadata": {},
   "source": [
    "### 5. Utilisez le module dns2python afin de vérifier que les zones renvoyées en axfr par les DNS du domaine \"zonetransfert.me.\" sont bien identiques/"
   ]
  },
  {
   "cell_type": "code",
   "execution_count": null,
   "metadata": {},
   "outputs": [],
   "source": []
  },
  {
   "cell_type": "markdown",
   "metadata": {},
   "source": [
    "# 7. Scapy un package Python pour tester votre sécurité"
   ]
  },
  {
   "cell_type": "markdown",
   "metadata": {},
   "source": [
    "###  EXo1 SCAN de port: Script permettant de scanner les ports de 1 à 1024 des machines de la salle"
   ]
  },
  {
   "cell_type": "code",
   "execution_count": 1,
   "metadata": {},
   "outputs": [
    {
     "name": "stdout",
     "output_type": "stream",
     "text": [
      "Scan en cours...\n",
      "Host 10.203.1.1\n",
      "Port  22 isOpen\n",
      "-----------------------------------\n",
      "Host 10.203.2.1\n",
      "-----------------------------------\n",
      "Host 10.203.3.1\n",
      "-----------------------------------\n",
      "Host 10.203.4.1\n",
      "Port  22 isOpen\n",
      "-----------------------------------\n",
      "Host 10.203.5.1\n",
      "Port  22 isOpen\n",
      "-----------------------------------\n",
      "Host 10.203.6.1\n",
      "-----------------------------------\n",
      "Host 10.203.7.1\n",
      "-----------------------------------\n",
      "Host 10.203.8.1\n",
      "Port  22 isOpen\n",
      "-----------------------------------\n",
      "Host 10.203.9.1\n",
      "Port  22 isOpen\n",
      "-----------------------------------\n",
      "Host 10.203.10.1\n",
      "-----------------------------------\n",
      "Host 10.203.11.1\n",
      "Port  22 isOpen\n",
      "-----------------------------------\n",
      "Host 10.203.12.1\n",
      "-----------------------------------\n",
      "Host 10.203.13.1\n",
      "-----------------------------------\n",
      "Host 10.203.14.1\n",
      "Port  22 isOpen\n",
      "-----------------------------------\n",
      "Host 10.203.15.1\n",
      "Port  22 NoneType\n",
      "-----------------------------------\n",
      "Host 10.203.16.1\n",
      "-----------------------------------\n",
      "Host 10.203.17.1\n",
      "-----------------------------------\n",
      "Host 10.203.18.1\n",
      "Port  22 isOpen\n",
      "-----------------------------------\n",
      "Host 10.203.19.1\n",
      "-----------------------------------\n",
      "Scan terminé.\n"
     ]
    }
   ],
   "source": [
    "from scapy.all import *\n",
    "import logging\n",
    "logging.getLogger(\"scapy.runtime\").setLevel(logging.ERROR)\n",
    "\n",
    "src_port = RandShort()\n",
    "\n",
    "print(\"Scan en cours...\")\n",
    "\n",
    "for i in range(1, 20):\n",
    "    dst_ip = \"10.203.%d.1\" % (i)\n",
    "\n",
    "    \n",
    "    for dst_port in range(22, 23):\n",
    "        tcp_connect_scan_resp = sr1(IP(dst=dst_ip)/TCP(sport=src_port,dport=dst_port,flags=\"S\"),timeout=15, verbose=0 )\n",
    "\n",
    "        if(str(type(tcp_connect_scan_resp))==\"<class 'NoneType'>\"):\n",
    "            print(\"Port \", dst_port, \"NoneType\")\n",
    "        elif(tcp_connect_scan_resp.haslayer(TCP)):\n",
    "            if(tcp_connect_scan_resp.getlayer(TCP).flags == 0x12):\n",
    "                send_rst = sr(IP(dst=dst_ip)/TCP(sport=src_port,dport=dst_port,flags=\"AR\"),timeout=10, verbose=0 )\n",
    "                print(\"Host\", dst_ip)\n",
    "                print(\"Port \", dst_port, \"isOpen\")\n",
    "            #elif (tcp_connect_scan_resp.getlayer(TCP).flags == 0x14):\n",
    "             #   print( dst_ip, \"P: \", dst_port, \"isClosed\")\n",
    "                \n",
    "    print(\"-----------------------------------\")\n",
    "           \n",
    "print(\"Scan terminé.\")\n"
   ]
  },
  {
   "cell_type": "markdown",
   "metadata": {},
   "source": [
    "### Exo2 Requête SNMP: Script permettant d'afficher et de recueillir desinformations sur les kernels Linux des serveurs de l'IUT ( Vérifiez que le port 161 udp est ouvert et passez votre requête )"
   ]
  },
  {
   "cell_type": "code",
   "execution_count": 4,
   "metadata": {},
   "outputs": [
    {
     "name": "stdout",
     "output_type": "stream",
     "text": [
      "Begin emission:\n",
      "Finished sending 1 packets.\n",
      "\n",
      "Received 7 packets, got 0 answers, remaining 1 packets\n",
      "Port  161 NoneType\n"
     ]
    }
   ],
   "source": [
    "from scapy.all import *\n",
    "import logging\n",
    "logging.getLogger(\"scapy.runtime\").setLevel(logging.ERROR)\n",
    "\n",
    "src_port = RandShort()\n",
    "dst_port = 161\n",
    "dst_ip = \"10.255.255.135\"\n",
    "\n",
    "#p = IP(dst=\"10.255.255.135\")/UDP(sport=161)/SNMP(community=\"publicbeziers\",PDU=SNMPget(varbindlist=[SNMPvarbind(oid=ASN1_OID(\"1.3.6.1.2.1.1.1.0\"))]))\n",
    "#print(sr1(p))\n",
    "\n",
    "udp_scan_resp = sr1(IP(dst=dst_ip)/UDP(dport=dst_port),timeout=10 )\n",
    "    \n",
    "if (str(type(udp_scan_resp))==\"<class 'NoneType'>\"):\n",
    "    print(\"Port \", dst_port, \"NoneType\")\n",
    "elif (udp_scan_resp.haslayer(UDP)):\n",
    "    print(\"Port \", dst_port, \"isOpen\")\n",
    "elif(udp_scan_resp.haslayer(ICMP)):\n",
    "    if(int(udp_scan_resp.getlayer(ICMP).type)==3):\n",
    "        print(\"Port \", dst_port, \"Closed\")\n",
    "    elif(int(udp_scan_resp.getlayer(ICMP).type)==3 and int(udp_scan_resp.getlayer(ICMP).code) in [1,2,9,10,13]):\n",
    "        print(\"Port \", dst_port, \"Filtered\")\n"
   ]
  },
  {
   "cell_type": "markdown",
   "metadata": {},
   "source": [
    "### Exo 3 Modifiez ce script qui sniffe le réseau avec une fonction de callback qui affiche les sources/dest IP afin qu'il affiche aussi les ports sources et destination ainsi que le type de paquets"
   ]
  },
  {
   "cell_type": "code",
   "execution_count": 14,
   "metadata": {},
   "outputs": [
    {
     "name": "stdout",
     "output_type": "stream",
     "text": [
      "###[ Ethernet ]### \n",
      "  dst       = 02:42:ac:12:00:02\n",
      "  src       = 02:42:38:f0:f2:77\n",
      "  type      = 0x800\n",
      "###[ IP ]### \n",
      "     version   = 4\n",
      "     ihl       = 5\n",
      "     tos       = 0x0\n",
      "     len       = 494\n",
      "     id        = 65221\n",
      "     flags     = DF\n",
      "     frag      = 0\n",
      "     ttl       = 63\n",
      "     proto     = tcp\n",
      "     chksum    = 0x7e64\n",
      "     src       = 10.203.6.1\n",
      "     dst       = 172.18.0.2\n",
      "     \\options   \\\n",
      "###[ TCP ]### \n",
      "        sport     = 40606\n",
      "        dport     = 8888\n",
      "        seq       = 890792378\n",
      "        ack       = 1140458654\n",
      "        dataofs   = 8\n",
      "        reserved  = 0\n",
      "        flags     = PA\n",
      "        window    = 59\n",
      "        chksum    = 0x8fae\n",
      "        urgptr    = 0\n",
      "        options   = [('NOP', None), ('NOP', None), ('Timestamp', (6971879, 3584397720))]\n",
      "###[ Raw ]### \n",
      "           load      = 'GET /static/base/images/favicon-busy-1.ico HTTP/1.1\\r\\nHost: 10.203.6.2:8888\\r\\nUser-Agent: Mozilla/5.0 (X11; Linux x86_64; rv:52.0) Gecko/20100101 Firefox/52.0\\r\\nAccept: text/html,application/xhtml+xml,application/xml;q=0.9,*/*;q=0.8\\r\\nAccept-Language: en-US,en;q=0.5\\r\\nAccept-Encoding: gzip, deflate\\r\\nCookie: _xsrf=2|ec7dc1e2|3a9c9ca72516c4fde354c5408f662279|1554715461\\r\\nConnection: keep-alive\\r\\nIf-Modified-Since: Thu, 28 Mar 2019 11:13:02 GMT\\r\\n\\r\\n'\n",
      "\n",
      "Packet #1: proto: 6 10.203.6.1 ==> 172.18.0.2 sport: 40606  ==> 8888 \n",
      "###[ Ethernet ]### \n",
      "  dst       = 02:42:38:f0:f2:77\n",
      "  src       = 02:42:ac:12:00:02\n",
      "  type      = 0x800\n",
      "###[ IP ]### \n",
      "     version   = 4\n",
      "     ihl       = 5\n",
      "     tos       = 0x0\n",
      "     len       = 313\n",
      "     id        = 43692\n",
      "     flags     = DF\n",
      "     frag      = 0\n",
      "     ttl       = 64\n",
      "     proto     = tcp\n",
      "     chksum    = 0xd232\n",
      "     src       = 172.18.0.2\n",
      "     dst       = 10.203.6.1\n",
      "     \\options   \\\n",
      "###[ TCP ]### \n",
      "        sport     = 8888\n",
      "        dport     = 40606\n",
      "        seq       = 1140458654\n",
      "        ack       = 890792820\n",
      "        dataofs   = 8\n",
      "        reserved  = 0\n",
      "        flags     = PA\n",
      "        window    = 1452\n",
      "        chksum    = 0xbe0b\n",
      "        urgptr    = 0\n",
      "        options   = [('NOP', None), ('NOP', None), ('Timestamp', (3584400697, 6971879))]\n",
      "###[ Raw ]### \n",
      "           load      = \"HTTP/1.1 304 Not Modified\\r\\nServer: TornadoServer/6.0.2\\r\\nDate: Mon, 08 Apr 2019 15:51:20 GMT\\r\\nX-Content-Type-Options: nosniff\\r\\nContent-Security-Policy: frame-ancestors 'self'; report-uri /api/security/csp-report\\r\\nAccept-Ranges: bytes\\r\\nCache-Control: no-cache\\r\\n\\r\\n\"\n",
      "\n",
      "Packet #2: proto: 6 172.18.0.2 ==> 10.203.6.1 sport: 8888  ==> 40606 \n",
      "###[ Ethernet ]### \n",
      "  dst       = 02:42:ac:12:00:02\n",
      "  src       = 02:42:38:f0:f2:77\n",
      "  type      = 0x800\n",
      "###[ IP ]### \n",
      "     version   = 4\n",
      "     ihl       = 5\n",
      "     tos       = 0x0\n",
      "     len       = 52\n",
      "     id        = 65222\n",
      "     flags     = DF\n",
      "     frag      = 0\n",
      "     ttl       = 63\n",
      "     proto     = tcp\n",
      "     chksum    = 0x801d\n",
      "     src       = 10.203.6.1\n",
      "     dst       = 172.18.0.2\n",
      "     \\options   \\\n",
      "###[ TCP ]### \n",
      "        sport     = 40606\n",
      "        dport     = 8888\n",
      "        seq       = 890792820\n",
      "        ack       = 1140458915\n",
      "        dataofs   = 8\n",
      "        reserved  = 0\n",
      "        flags     = A\n",
      "        window    = 60\n",
      "        chksum    = 0x38ef\n",
      "        urgptr    = 0\n",
      "        options   = [('NOP', None), ('NOP', None), ('Timestamp', (6971880, 3584400697))]\n",
      "\n",
      "Packet #3: proto: 6 10.203.6.1 ==> 172.18.0.2 sport: 40606  ==> 8888 \n",
      "###[ Ethernet ]### \n",
      "  dst       = 02:42:38:f0:f2:77\n",
      "  src       = 02:42:ac:12:00:02\n",
      "  type      = 0x800\n",
      "###[ IP ]### \n",
      "     version   = 4\n",
      "     ihl       = 5\n",
      "     tos       = 0x0\n",
      "     len       = 4089\n",
      "     id        = 24154\n",
      "     flags     = DF\n",
      "     frag      = 0\n",
      "     ttl       = 64\n",
      "     proto     = tcp\n",
      "     chksum    = 0xfc5\n",
      "     src       = 172.18.0.2\n",
      "     dst       = 10.203.6.1\n",
      "     \\options   \\\n",
      "###[ TCP ]### \n",
      "        sport     = 8888\n",
      "        dport     = 40554\n",
      "        seq       = 903307478\n",
      "        ack       = 3085382087\n",
      "        dataofs   = 8\n",
      "        reserved  = 0\n",
      "        flags     = PA\n",
      "        window    = 609\n",
      "        chksum    = 0xcccb\n",
      "        urgptr    = 0\n",
      "        options   = [('NOP', None), ('NOP', None), ('Timestamp', (3584400906, 6971615))]\n",
      "###[ Raw ]### \n",
      "           load      = '\\x81~\\x0f\\xc1{\"header\": {\"msg_id\": \"af3cbb58-964b8a375a01ca0c5fab07f5\", \"msg_type\": \"stream\", \"username\": \"root\", \"session\": \"e53220c9-a8422bd20e783dcc9e128eab\", \"date\": \"2019-04-08T15:51:20.681388Z\", \"version\": \"5.3\"}, \"msg_id\": \"af3cbb58-964b8a375a01ca0c5fab07f5\", \"msg_type\": \"stream\", \"parent_header\": {\"msg_id\": \"bfb8b6e3c24f4c9284e3100d2aab2d1e\", \"username\": \"username\", \"session\": \"fc4c591200f8459e8263db8049fd0c1b\", \"msg_type\": \"execute_request\", \"version\": \"5.2\", \"date\": \"2019-04-08T15:51:19.413184Z\"}, \"metadata\": {}, \"content\": {\"name\": \"stdout\", \"text\": \"###[ Ethernet ]### \\\\n  dst       = 02:42:ac:12:00:02\\\\n  src       = 02:42:38:f0:f2:77\\\\n  type      = 0x800\\\\n###[ IP ]### \\\\n     version   = 4\\\\n     ihl       = 5\\\\n     tos       = 0x0\\\\n     len       = 494\\\\n     id        = 65221\\\\n     flags     = DF\\\\n     frag      = 0\\\\n     ttl       = 63\\\\n     proto     = tcp\\\\n     chksum    = 0x7e64\\\\n     src       = 10.203.6.1\\\\n     dst       = 172.18.0.2\\\\n     \\\\\\\\options   \\\\\\\\\\\\n###[ TCP ]### \\\\n        sport     = 40606\\\\n        dport     = 8888\\\\n        seq       = 890792378\\\\n        ack       = 1140458654\\\\n        dataofs   = 8\\\\n        reserved  = 0\\\\n        flags     = PA\\\\n        window    = 59\\\\n        chksum    = 0x8fae\\\\n        urgptr    = 0\\\\n        options   = [(\\'NOP\\', None), (\\'NOP\\', None), (\\'Timestamp\\', (6971879, 3584397720))]\\\\n###[ Raw ]### \\\\n           load      = \\'GET /static/base/images/favicon-busy-1.ico HTTP/1.1\\\\\\\\r\\\\\\\\nHost: 10.203.6.2:8888\\\\\\\\r\\\\\\\\nUser-Agent: Mozilla/5.0 (X11; Linux x86_64; rv:52.0) Gecko/20100101 Firefox/52.0\\\\\\\\r\\\\\\\\nAccept: text/html,application/xhtml+xml,application/xml;q=0.9,*/*;q=0.8\\\\\\\\r\\\\\\\\nAccept-Language: en-US,en;q=0.5\\\\\\\\r\\\\\\\\nAccept-Encoding: gzip, deflate\\\\\\\\r\\\\\\\\nCookie: _xsrf=2|ec7dc1e2|3a9c9ca72516c4fde354c5408f662279|1554715461\\\\\\\\r\\\\\\\\nConnection: keep-alive\\\\\\\\r\\\\\\\\nIf-Modified-Since: Thu, 28 Mar 2019 11:13:02 GMT\\\\\\\\r\\\\\\\\n\\\\\\\\r\\\\\\\\n\\'\\\\n\\\\nPacket #1: proto: 6 10.203.6.1 ==> 172.18.0.2 sport: 40606  ==> 8888 \\\\n###[ Ethernet ]### \\\\n  dst       = 02:42:38:f0:f2:77\\\\n  src       = 02:42:ac:12:00:02\\\\n  type      = 0x800\\\\n###[ IP ]### \\\\n     version   = 4\\\\n     ihl       = 5\\\\n     tos       = 0x0\\\\n     len       = 313\\\\n     id        = 43692\\\\n     flags     = DF\\\\n     frag      = 0\\\\n     ttl       = 64\\\\n     proto     = tcp\\\\n     chksum    = 0xd232\\\\n     src       = 172.18.0.2\\\\n     dst       = 10.203.6.1\\\\n     \\\\\\\\options   \\\\\\\\\\\\n###[ TCP ]### \\\\n        sport     = 8888\\\\n        dport     = 40606\\\\n        seq       = 1140458654\\\\n        ack       = 890792820\\\\n        dataofs   = 8\\\\n        reserved  = 0\\\\n        flags     = PA\\\\n        window    = 1452\\\\n        chksum    = 0xbe0b\\\\n        urgptr    = 0\\\\n        options   = [(\\'NOP\\', None), (\\'NOP\\', None), (\\'Timestamp\\', (3584400697, 6971879))]\\\\n###[ Raw ]### \\\\n           load      = \\\\\"HTTP/1.1 304 Not Modified\\\\\\\\r\\\\\\\\nServer: TornadoServer/6.0.2\\\\\\\\r\\\\\\\\nDate: Mon, 08 Apr 2019 15:51:20 GMT\\\\\\\\r\\\\\\\\nX-Content-Type-Options: nosniff\\\\\\\\r\\\\\\\\nContent-Security-Policy: frame-ancestors \\'self\\'; report-uri /api/security/csp-report\\\\\\\\r\\\\\\\\nAccept-Ranges: bytes\\\\\\\\r\\\\\\\\nCache-Control: no-cache\\\\\\\\r\\\\\\\\n\\\\\\\\r\\\\\\\\n\\\\\"\\\\n\\\\nPacket #2: proto: 6 172.18.0.2 ==> 10.203.6.1 sport: 8888  ==> 40606 \\\\n###[ Ethernet ]### \\\\n  dst       = 02:42:ac:12:00:02\\\\n  src       = 02:42:38:f0:f2:77\\\\n  type      = 0x800\\\\n###[ IP ]### \\\\n     version   = 4\\\\n     ihl       = 5\\\\n     tos       = 0x0\\\\n     len       = 52\\\\n     id        = 65222\\\\n     flags     = DF\\\\n     frag      = 0\\\\n     ttl       = 63\\\\n     proto     = tcp\\\\n     chksum    = 0x801d\\\\n     src       = 10.203.6.1\\\\n     dst       = 172.18.0.2\\\\n     \\\\\\\\options   \\\\\\\\\\\\n###[ TCP ]### \\\\n        sport     = 40606\\\\n        dport     = 8888\\\\n        seq       = 890792820\\\\n        ack       = 1140458915\\\\n        dataofs   = 8\\\\n        reserved  = 0\\\\n        flags     = A\\\\n        window    = 60\\\\n        chksum    = 0x38ef\\\\n        urgptr    = 0\\\\n        options   = [(\\'NOP\\', None), (\\'NOP\\', None), (\\'Timestamp\\', (6971880, 3584400697))]\\\\n\\\\nPacket #3: proto: 6 10.203.6.1 ==> 172.18.0.2 sport: 40606  ==> 8888 \\\\n\"}, \"buffers\": [], \"channel\": \"iopub\"}'\n",
      "\n",
      "Packet #4: proto: 6 172.18.0.2 ==> 10.203.6.1 sport: 8888  ==> 40554 \n",
      "###[ Ethernet ]### \n",
      "  dst       = 02:42:ac:12:00:02\n",
      "  src       = 02:42:38:f0:f2:77\n",
      "  type      = 0x800\n",
      "###[ IP ]### \n",
      "     version   = 4\n",
      "     ihl       = 5\n",
      "     tos       = 0x0\n",
      "     len       = 52\n",
      "     id        = 22587\n",
      "     flags     = DF\n",
      "     frag      = 0\n",
      "     ttl       = 63\n",
      "     proto     = tcp\n",
      "     chksum    = 0x26a9\n",
      "     src       = 10.203.6.1\n",
      "     dst       = 172.18.0.2\n",
      "     \\options   \\\n",
      "###[ TCP ]### \n",
      "        sport     = 40554\n",
      "        dport     = 8888\n",
      "        seq       = 3085382087\n",
      "        ack       = 903311515\n",
      "        dataofs   = 8\n",
      "        reserved  = 0\n",
      "        flags     = A\n",
      "        window    = 178\n",
      "        chksum    = 0x91b0\n",
      "        urgptr    = 0\n",
      "        options   = [('NOP', None), ('NOP', None), ('Timestamp', (6971932, 3584400906))]\n",
      "\n",
      "Packet #5: proto: 6 10.203.6.1 ==> 172.18.0.2 sport: 40554  ==> 8888 \n"
     ]
    },
    {
     "name": "stdout",
     "output_type": "stream",
     "text": [
      "###[ Ethernet ]### \n",
      "  dst       = 02:42:38:f0:f2:77\n",
      "  src       = 02:42:ac:12:00:02\n",
      "  type      = 0x800\n",
      "###[ IP ]### \n",
      "     version   = 4\n",
      "     ihl       = 5\n",
      "     tos       = 0x0\n",
      "     len       = 7141\n",
      "     id        = 24157\n",
      "     flags     = DF\n",
      "     frag      = 0\n",
      "     ttl       = 64\n",
      "     proto     = tcp\n",
      "     chksum    = 0x3d6\n",
      "     src       = 172.18.0.2\n",
      "     dst       = 10.203.6.1\n",
      "     \\options   \\\n",
      "###[ TCP ]### \n",
      "        sport     = 8888\n",
      "        dport     = 40554\n",
      "        seq       = 903311515\n",
      "        ack       = 3085382087\n",
      "        dataofs   = 8\n",
      "        reserved  = 0\n",
      "        flags     = PA\n",
      "        window    = 609\n",
      "        chksum    = 0xd8b7\n",
      "        urgptr    = 0\n",
      "        options   = [('NOP', None), ('NOP', None), ('Timestamp', (3584401118, 6971932))]\n",
      "###[ Raw ]### \n",
      "           load      = '\\x81~\\x1b\\xad{\"header\": {\"msg_id\": \"f131e477-ab650869017e6c0ceb9fda9b\", \"msg_type\": \"stream\", \"username\": \"root\", \"session\": \"e53220c9-a8422bd20e783dcc9e128eab\", \"date\": \"2019-04-08T15:51:20.894293Z\", \"version\": \"5.3\"}, \"msg_id\": \"f131e477-ab650869017e6c0ceb9fda9b\", \"msg_type\": \"stream\", \"parent_header\": {\"msg_id\": \"bfb8b6e3c24f4c9284e3100d2aab2d1e\", \"username\": \"username\", \"session\": \"fc4c591200f8459e8263db8049fd0c1b\", \"msg_type\": \"execute_request\", \"version\": \"5.2\", \"date\": \"2019-04-08T15:51:19.413184Z\"}, \"metadata\": {}, \"content\": {\"name\": \"stdout\", \"text\": \"###[ Ethernet ]### \\\\n  dst       = 02:42:38:f0:f2:77\\\\n  src       = 02:42:ac:12:00:02\\\\n  type      = 0x800\\\\n###[ IP ]### \\\\n     version   = 4\\\\n     ihl       = 5\\\\n     tos       = 0x0\\\\n     len       = 4089\\\\n     id        = 24154\\\\n     flags     = DF\\\\n     frag      = 0\\\\n     ttl       = 64\\\\n     proto     = tcp\\\\n     chksum    = 0xfc5\\\\n     src       = 172.18.0.2\\\\n     dst       = 10.203.6.1\\\\n     \\\\\\\\options   \\\\\\\\\\\\n###[ TCP ]### \\\\n        sport     = 8888\\\\n        dport     = 40554\\\\n        seq       = 903307478\\\\n        ack       = 3085382087\\\\n        dataofs   = 8\\\\n        reserved  = 0\\\\n        flags     = PA\\\\n        window    = 609\\\\n        chksum    = 0xcccb\\\\n        urgptr    = 0\\\\n        options   = [(\\'NOP\\', None), (\\'NOP\\', None), (\\'Timestamp\\', (3584400906, 6971615))]\\\\n###[ Raw ]### \\\\n           load      = \\'\\\\\\\\x81~\\\\\\\\x0f\\\\\\\\xc1{\\\\\"header\\\\\": {\\\\\"msg_id\\\\\": \\\\\"af3cbb58-964b8a375a01ca0c5fab07f5\\\\\", \\\\\"msg_type\\\\\": \\\\\"stream\\\\\", \\\\\"username\\\\\": \\\\\"root\\\\\", \\\\\"session\\\\\": \\\\\"e53220c9-a8422bd20e783dcc9e128eab\\\\\", \\\\\"date\\\\\": \\\\\"2019-04-08T15:51:20.681388Z\\\\\", \\\\\"version\\\\\": \\\\\"5.3\\\\\"}, \\\\\"msg_id\\\\\": \\\\\"af3cbb58-964b8a375a01ca0c5fab07f5\\\\\", \\\\\"msg_type\\\\\": \\\\\"stream\\\\\", \\\\\"parent_header\\\\\": {\\\\\"msg_id\\\\\": \\\\\"bfb8b6e3c24f4c9284e3100d2aab2d1e\\\\\", \\\\\"username\\\\\": \\\\\"username\\\\\", \\\\\"session\\\\\": \\\\\"fc4c591200f8459e8263db8049fd0c1b\\\\\", \\\\\"msg_type\\\\\": \\\\\"execute_request\\\\\", \\\\\"version\\\\\": \\\\\"5.2\\\\\", \\\\\"date\\\\\": \\\\\"2019-04-08T15:51:19.413184Z\\\\\"}, \\\\\"metadata\\\\\": {}, \\\\\"content\\\\\": {\\\\\"name\\\\\": \\\\\"stdout\\\\\", \\\\\"text\\\\\": \\\\\"###[ Ethernet ]### \\\\\\\\\\\\\\\\n  dst       = 02:42:ac:12:00:02\\\\\\\\\\\\\\\\n  src       = 02:42:38:f0:f2:77\\\\\\\\\\\\\\\\n  type      = 0x800\\\\\\\\\\\\\\\\n###[ IP ]### \\\\\\\\\\\\\\\\n     version   = 4\\\\\\\\\\\\\\\\n     ihl       = 5\\\\\\\\\\\\\\\\n     tos       = 0x0\\\\\\\\\\\\\\\\n     len       = 494\\\\\\\\\\\\\\\\n     id        = 65221\\\\\\\\\\\\\\\\n     flags     = DF\\\\\\\\\\\\\\\\n     frag      = 0\\\\\\\\\\\\\\\\n     ttl       = 63\\\\\\\\\\\\\\\\n     proto     = tcp\\\\\\\\\\\\\\\\n     chksum    = 0x7e64\\\\\\\\\\\\\\\\n     src       = 10.203.6.1\\\\\\\\\\\\\\\\n     dst       = 172.18.0.2\\\\\\\\\\\\\\\\n     \\\\\\\\\\\\\\\\\\\\\\\\\\\\\\\\options   \\\\\\\\\\\\\\\\\\\\\\\\\\\\\\\\\\\\\\\\\\\\\\\\n###[ TCP ]### \\\\\\\\\\\\\\\\n        sport     = 40606\\\\\\\\\\\\\\\\n        dport     = 8888\\\\\\\\\\\\\\\\n        seq       = 890792378\\\\\\\\\\\\\\\\n        ack       = 1140458654\\\\\\\\\\\\\\\\n        dataofs   = 8\\\\\\\\\\\\\\\\n        reserved  = 0\\\\\\\\\\\\\\\\n        flags     = PA\\\\\\\\\\\\\\\\n        window    = 59\\\\\\\\\\\\\\\\n        chksum    = 0x8fae\\\\\\\\\\\\\\\\n        urgptr    = 0\\\\\\\\\\\\\\\\n        options   = [(\\\\\\\\\\'NOP\\\\\\\\\\', None), (\\\\\\\\\\'NOP\\\\\\\\\\', None), (\\\\\\\\\\'Timestamp\\\\\\\\\\', (6971879, 3584397720))]\\\\\\\\\\\\\\\\n###[ Raw ]### \\\\\\\\\\\\\\\\n           load      = \\\\\\\\\\'GET /static/base/images/favicon-busy-1.ico HTTP/1.1\\\\\\\\\\\\\\\\\\\\\\\\\\\\\\\\r\\\\\\\\\\\\\\\\\\\\\\\\\\\\\\\\nHost: 10.203.6.2:8888\\\\\\\\\\\\\\\\\\\\\\\\\\\\\\\\r\\\\\\\\\\\\\\\\\\\\\\\\\\\\\\\\nUser-Agent: Mozilla/5.0 (X11; Linux x86_64; rv:52.0) Gecko/20100101 Firefox/52.0\\\\\\\\\\\\\\\\\\\\\\\\\\\\\\\\r\\\\\\\\\\\\\\\\\\\\\\\\\\\\\\\\nAccept: text/html,application/xhtml+xml,application/xml;q=0.9,*/*;q=0.8\\\\\\\\\\\\\\\\\\\\\\\\\\\\\\\\r\\\\\\\\\\\\\\\\\\\\\\\\\\\\\\\\nAccept-Language: en-US,en;q=0.5\\\\\\\\\\\\\\\\\\\\\\\\\\\\\\\\r\\\\\\\\\\\\\\\\\\\\\\\\\\\\\\\\nAccept-Encoding: gzip, deflate\\\\\\\\\\\\\\\\\\\\\\\\\\\\\\\\r\\\\\\\\\\\\\\\\\\\\\\\\\\\\\\\\nCookie: _xsrf=2|ec7dc1e2|3a9c9ca72516c4fde354c5408f662279|1554715461\\\\\\\\\\\\\\\\\\\\\\\\\\\\\\\\r\\\\\\\\\\\\\\\\\\\\\\\\\\\\\\\\nConnection: keep-alive\\\\\\\\\\\\\\\\\\\\\\\\\\\\\\\\r\\\\\\\\\\\\\\\\\\\\\\\\\\\\\\\\nIf-Modified-Since: Thu, 28 Mar 2019 11:13:02 GMT\\\\\\\\\\\\\\\\\\\\\\\\\\\\\\\\r\\\\\\\\\\\\\\\\\\\\\\\\\\\\\\\\n\\\\\\\\\\\\\\\\\\\\\\\\\\\\\\\\r\\\\\\\\\\\\\\\\\\\\\\\\\\\\\\\\n\\\\\\\\\\'\\\\\\\\\\\\\\\\n\\\\\\\\\\\\\\\\nPacket #1: proto: 6 10.203.6.1 ==> 172.18.0.2 sport: 40606  ==> 8888 \\\\\\\\\\\\\\\\n###[ Ethernet ]### \\\\\\\\\\\\\\\\n  dst       = 02:42:38:f0:f2:77\\\\\\\\\\\\\\\\n  src       = 02:42:ac:12:00:02\\\\\\\\\\\\\\\\n  type      = 0x800\\\\\\\\\\\\\\\\n###[ IP ]### \\\\\\\\\\\\\\\\n     version   = 4\\\\\\\\\\\\\\\\n     ihl       = 5\\\\\\\\\\\\\\\\n     tos       = 0x0\\\\\\\\\\\\\\\\n     len       = 313\\\\\\\\\\\\\\\\n     id        = 43692\\\\\\\\\\\\\\\\n     flags     = DF\\\\\\\\\\\\\\\\n     frag      = 0\\\\\\\\\\\\\\\\n     ttl       = 64\\\\\\\\\\\\\\\\n     proto     = tcp\\\\\\\\\\\\\\\\n     chksum    = 0xd232\\\\\\\\\\\\\\\\n     src       = 172.18.0.2\\\\\\\\\\\\\\\\n     dst       = 10.203.6.1\\\\\\\\\\\\\\\\n     \\\\\\\\\\\\\\\\\\\\\\\\\\\\\\\\options   \\\\\\\\\\\\\\\\\\\\\\\\\\\\\\\\\\\\\\\\\\\\\\\\n###[ TCP ]### \\\\\\\\\\\\\\\\n        sport     = 8888\\\\\\\\\\\\\\\\n        dport     = 40606\\\\\\\\\\\\\\\\n        seq       = 1140458654\\\\\\\\\\\\\\\\n        ack       = 890792820\\\\\\\\\\\\\\\\n        dataofs   = 8\\\\\\\\\\\\\\\\n        reserved  = 0\\\\\\\\\\\\\\\\n        flags     = PA\\\\\\\\\\\\\\\\n        window    = 1452\\\\\\\\\\\\\\\\n        chksum    = 0xbe0b\\\\\\\\\\\\\\\\n        urgptr    = 0\\\\\\\\\\\\\\\\n        options   = [(\\\\\\\\\\'NOP\\\\\\\\\\', None), (\\\\\\\\\\'NOP\\\\\\\\\\', None), (\\\\\\\\\\'Timestamp\\\\\\\\\\', (3584400697, 6971879))]\\\\\\\\\\\\\\\\n###[ Raw ]### \\\\\\\\\\\\\\\\n           load      = \\\\\\\\\\\\\\\\\\\\\"HTTP/1.1 304 Not Modified\\\\\\\\\\\\\\\\\\\\\\\\\\\\\\\\r\\\\\\\\\\\\\\\\\\\\\\\\\\\\\\\\nServer: TornadoServer/6.0.2\\\\\\\\\\\\\\\\\\\\\\\\\\\\\\\\r\\\\\\\\\\\\\\\\\\\\\\\\\\\\\\\\nDate: Mon, 08 Apr 2019 15:51:20 GMT\\\\\\\\\\\\\\\\\\\\\\\\\\\\\\\\r\\\\\\\\\\\\\\\\\\\\\\\\\\\\\\\\nX-Content-Type-Options: nosniff\\\\\\\\\\\\\\\\\\\\\\\\\\\\\\\\r\\\\\\\\\\\\\\\\\\\\\\\\\\\\\\\\nContent-Security-Policy: frame-ancestors \\\\\\\\\\'self\\\\\\\\\\'; report-uri /api/security/csp-report\\\\\\\\\\\\\\\\\\\\\\\\\\\\\\\\r\\\\\\\\\\\\\\\\\\\\\\\\\\\\\\\\nAccept-Ranges: bytes\\\\\\\\\\\\\\\\\\\\\\\\\\\\\\\\r\\\\\\\\\\\\\\\\\\\\\\\\\\\\\\\\nCache-Control: no-cache\\\\\\\\\\\\\\\\\\\\\\\\\\\\\\\\r\\\\\\\\\\\\\\\\\\\\\\\\\\\\\\\\n\\\\\\\\\\\\\\\\\\\\\\\\\\\\\\\\r\\\\\\\\\\\\\\\\\\\\\\\\\\\\\\\\n\\\\\\\\\\\\\\\\\\\\\"\\\\\\\\\\\\\\\\n\\\\\\\\\\\\\\\\nPacket #2: proto: 6 172.18.0.2 ==> 10.203.6.1 sport: 8888  ==> 40606 \\\\\\\\\\\\\\\\n###[ Ethernet ]### \\\\\\\\\\\\\\\\n  dst       = 02:42:ac:12:00:02\\\\\\\\\\\\\\\\n  src       = 02:42:38:f0:f2:77\\\\\\\\\\\\\\\\n  type      = 0x800\\\\\\\\\\\\\\\\n###[ IP ]### \\\\\\\\\\\\\\\\n     version   = 4\\\\\\\\\\\\\\\\n     ihl       = 5\\\\\\\\\\\\\\\\n     tos       = 0x0\\\\\\\\\\\\\\\\n     len       = 52\\\\\\\\\\\\\\\\n     id        = 65222\\\\\\\\\\\\\\\\n     flags     = DF\\\\\\\\\\\\\\\\n     frag      = 0\\\\\\\\\\\\\\\\n     ttl       = 63\\\\\\\\\\\\\\\\n     proto     = tcp\\\\\\\\\\\\\\\\n     chksum    = 0x801d\\\\\\\\\\\\\\\\n     src       = 10.203.6.1\\\\\\\\\\\\\\\\n     dst       = 172.18.0.2\\\\\\\\\\\\\\\\n     \\\\\\\\\\\\\\\\\\\\\\\\\\\\\\\\options   \\\\\\\\\\\\\\\\\\\\\\\\\\\\\\\\\\\\\\\\\\\\\\\\n###[ TCP ]### \\\\\\\\\\\\\\\\n        sport     = 40606\\\\\\\\\\\\\\\\n        dport     = 8888\\\\\\\\\\\\\\\\n        seq       = 890792820\\\\\\\\\\\\\\\\n        ack       = 1140458915\\\\\\\\\\\\\\\\n        dataofs   = 8\\\\\\\\\\\\\\\\n        reserved  = 0\\\\\\\\\\\\\\\\n        flags     = A\\\\\\\\\\\\\\\\n        window    = 60\\\\\\\\\\\\\\\\n        chksum    = 0x38ef\\\\\\\\\\\\\\\\n        urgptr    = 0\\\\\\\\\\\\\\\\n        options   = [(\\\\\\\\\\'NOP\\\\\\\\\\', None), (\\\\\\\\\\'NOP\\\\\\\\\\', None), (\\\\\\\\\\'Timestamp\\\\\\\\\\', (6971880, 3584400697))]\\\\\\\\\\\\\\\\n\\\\\\\\\\\\\\\\nPacket #3: proto: 6 10.203.6.1 ==> 172.18.0.2 sport: 40606  ==> 8888 \\\\\\\\\\\\\\\\n\\\\\"}, \\\\\"buffers\\\\\": [], \\\\\"channel\\\\\": \\\\\"iopub\\\\\"}\\'\\\\n\\\\nPacket #4: proto: 6 172.18.0.2 ==> 10.203.6.1 sport: 8888  ==> 40554 \\\\n###[ Ethernet ]### \\\\n  dst       = 02:42:ac:12:00:02\\\\n  src       = 02:42:38:f0:f2:77\\\\n  type      = 0x800\\\\n###[ IP ]### \\\\n     version   = 4\\\\n     ihl       = 5\\\\n     tos       = 0x0\\\\n     len       = 52\\\\n     id        = 22587\\\\n     flags     = DF\\\\n     frag      = 0\\\\n     ttl       = 63\\\\n     proto     = tcp\\\\n     chksum    = 0x26a9\\\\n     src       = 10.203.6.1\\\\n     dst       = 172.18.0.2\\\\n     \\\\\\\\options   \\\\\\\\\\\\n###[ TCP ]### \\\\n        sport     = 40554\\\\n        dport     = 8888\\\\n        seq       = 3085382087\\\\n        ack       = 903311515\\\\n        dataofs   = 8\\\\n        reserved  = 0\\\\n        flags     = A\\\\n        window    = 178\\\\n        chksum    = 0x91b0\\\\n        urgptr    = 0\\\\n        options   = [(\\'NOP\\', None), (\\'NOP\\', None), (\\'Timestamp\\', (6971932, 3584400906))]\\\\n\\\\nPacket #5: proto: 6 10.203.6.1 ==> 172.18.0.2 sport: 40554  ==> 8888 \\\\n\"}, \"buffers\": [], \"channel\": \"iopub\"}'\n",
      "\n",
      "Packet #6: proto: 6 172.18.0.2 ==> 10.203.6.1 sport: 8888  ==> 40554 \n",
      "###[ Ethernet ]### \n",
      "  dst       = 02:42:ac:12:00:02\n",
      "  src       = 02:42:38:f0:f2:77\n",
      "  type      = 0x800\n",
      "###[ IP ]### \n",
      "     version   = 4\n",
      "     ihl       = 5\n",
      "     tos       = 0x0\n",
      "     len       = 52\n",
      "     id        = 22588\n",
      "     flags     = DF\n",
      "     frag      = 0\n",
      "     ttl       = 63\n",
      "     proto     = tcp\n",
      "     chksum    = 0x26a8\n",
      "     src       = 10.203.6.1\n",
      "     dst       = 172.18.0.2\n",
      "     \\options   \\\n",
      "###[ TCP ]### \n",
      "        sport     = 40554\n",
      "        dport     = 8888\n",
      "        seq       = 3085382087\n",
      "        ack       = 903318604\n",
      "        dataofs   = 8\n",
      "        reserved  = 0\n",
      "        flags     = A\n",
      "        window    = 178\n",
      "        chksum    = 0x74f6\n",
      "        urgptr    = 0\n",
      "        options   = [('NOP', None), ('NOP', None), ('Timestamp', (6971985, 3584401118))]\n",
      "\n",
      "Packet #7: proto: 6 10.203.6.1 ==> 172.18.0.2 sport: 40554  ==> 8888 \n"
     ]
    },
    {
     "name": "stdout",
     "output_type": "stream",
     "text": [
      "###[ Ethernet ]### \n",
      "  dst       = 02:42:38:f0:f2:77\n",
      "  src       = 02:42:ac:12:00:02\n",
      "  type      = 0x800\n",
      "###[ IP ]### \n",
      "     version   = 4\n",
      "     ihl       = 5\n",
      "     tos       = 0x0\n",
      "     len       = 7292\n",
      "     id        = 24162\n",
      "     flags     = DF\n",
      "     frag      = 0\n",
      "     ttl       = 64\n",
      "     proto     = tcp\n",
      "     chksum    = 0x33a\n",
      "     src       = 172.18.0.2\n",
      "     dst       = 10.203.6.1\n",
      "     \\options   \\\n",
      "###[ TCP ]### \n",
      "        sport     = 8888\n",
      "        dport     = 40554\n",
      "        seq       = 903318604\n",
      "        ack       = 3085382087\n",
      "        dataofs   = 8\n",
      "        reserved  = 0\n",
      "        flags     = A\n",
      "        window    = 609\n",
      "        chksum    = 0xd94e\n",
      "        urgptr    = 0\n",
      "        options   = [('NOP', None), ('NOP', None), ('Timestamp', (3584401329, 6971985))]\n",
      "###[ Raw ]### \n",
      "           load      = '\\x81~0\\xf1{\"header\": {\"msg_id\": \"6a0c7f4f-d194f81813cd0cec05fcf276\", \"msg_type\": \"stream\", \"username\": \"root\", \"session\": \"e53220c9-a8422bd20e783dcc9e128eab\", \"date\": \"2019-04-08T15:51:21.103070Z\", \"version\": \"5.3\"}, \"msg_id\": \"6a0c7f4f-d194f81813cd0cec05fcf276\", \"msg_type\": \"stream\", \"parent_header\": {\"msg_id\": \"bfb8b6e3c24f4c9284e3100d2aab2d1e\", \"username\": \"username\", \"session\": \"fc4c591200f8459e8263db8049fd0c1b\", \"msg_type\": \"execute_request\", \"version\": \"5.2\", \"date\": \"2019-04-08T15:51:19.413184Z\"}, \"metadata\": {}, \"content\": {\"name\": \"stdout\", \"text\": \"###[ Ethernet ]### \\\\n  dst       = 02:42:38:f0:f2:77\\\\n  src       = 02:42:ac:12:00:02\\\\n  type      = 0x800\\\\n###[ IP ]### \\\\n     version   = 4\\\\n     ihl       = 5\\\\n     tos       = 0x0\\\\n     len       = 7141\\\\n     id        = 24157\\\\n     flags     = DF\\\\n     frag      = 0\\\\n     ttl       = 64\\\\n     proto     = tcp\\\\n     chksum    = 0x3d6\\\\n     src       = 172.18.0.2\\\\n     dst       = 10.203.6.1\\\\n     \\\\\\\\options   \\\\\\\\\\\\n###[ TCP ]### \\\\n        sport     = 8888\\\\n        dport     = 40554\\\\n        seq       = 903311515\\\\n        ack       = 3085382087\\\\n        dataofs   = 8\\\\n        reserved  = 0\\\\n        flags     = PA\\\\n        window    = 609\\\\n        chksum    = 0xd8b7\\\\n        urgptr    = 0\\\\n        options   = [(\\'NOP\\', None), (\\'NOP\\', None), (\\'Timestamp\\', (3584401118, 6971932))]\\\\n###[ Raw ]### \\\\n           load      = \\'\\\\\\\\x81~\\\\\\\\x1b\\\\\\\\xad{\\\\\"header\\\\\": {\\\\\"msg_id\\\\\": \\\\\"f131e477-ab650869017e6c0ceb9fda9b\\\\\", \\\\\"msg_type\\\\\": \\\\\"stream\\\\\", \\\\\"username\\\\\": \\\\\"root\\\\\", \\\\\"session\\\\\": \\\\\"e53220c9-a8422bd20e783dcc9e128eab\\\\\", \\\\\"date\\\\\": \\\\\"2019-04-08T15:51:20.894293Z\\\\\", \\\\\"version\\\\\": \\\\\"5.3\\\\\"}, \\\\\"msg_id\\\\\": \\\\\"f131e477-ab650869017e6c0ceb9fda9b\\\\\", \\\\\"msg_type\\\\\": \\\\\"stream\\\\\", \\\\\"parent_header\\\\\": {\\\\\"msg_id\\\\\": \\\\\"bfb8b6e3c24f4c9284e3100d2aab2d1e\\\\\", \\\\\"username\\\\\": \\\\\"username\\\\\", \\\\\"session\\\\\": \\\\\"fc4c591200f8459e8263db8049fd0c1b\\\\\", \\\\\"msg_type\\\\\": \\\\\"execute_request\\\\\", \\\\\"version\\\\\": \\\\\"5.2\\\\\", \\\\\"date\\\\\": \\\\\"2019-04-08T15:51:19.413184Z\\\\\"}, \\\\\"metadata\\\\\": {}, \\\\\"content\\\\\": {\\\\\"name\\\\\": \\\\\"stdout\\\\\", \\\\\"text\\\\\": \\\\\"###[ Ethernet ]### \\\\\\\\\\\\\\\\n  dst       = 02:42:38:f0:f2:77\\\\\\\\\\\\\\\\n  src       = 02:42:ac:12:00:02\\\\\\\\\\\\\\\\n  type      = 0x800\\\\\\\\\\\\\\\\n###[ IP ]### \\\\\\\\\\\\\\\\n     version   = 4\\\\\\\\\\\\\\\\n     ihl       = 5\\\\\\\\\\\\\\\\n     tos       = 0x0\\\\\\\\\\\\\\\\n     len       = 4089\\\\\\\\\\\\\\\\n     id        = 24154\\\\\\\\\\\\\\\\n     flags     = DF\\\\\\\\\\\\\\\\n     frag      = 0\\\\\\\\\\\\\\\\n     ttl       = 64\\\\\\\\\\\\\\\\n     proto     = tcp\\\\\\\\\\\\\\\\n     chksum    = 0xfc5\\\\\\\\\\\\\\\\n     src       = 172.18.0.2\\\\\\\\\\\\\\\\n     dst       = 10.203.6.1\\\\\\\\\\\\\\\\n     \\\\\\\\\\\\\\\\\\\\\\\\\\\\\\\\options   \\\\\\\\\\\\\\\\\\\\\\\\\\\\\\\\\\\\\\\\\\\\\\\\n###[ TCP ]### \\\\\\\\\\\\\\\\n        sport     = 8888\\\\\\\\\\\\\\\\n        dport     = 40554\\\\\\\\\\\\\\\\n        seq       = 903307478\\\\\\\\\\\\\\\\n        ack       = 3085382087\\\\\\\\\\\\\\\\n        dataofs   = 8\\\\\\\\\\\\\\\\n        reserved  = 0\\\\\\\\\\\\\\\\n        flags     = PA\\\\\\\\\\\\\\\\n        window    = 609\\\\\\\\\\\\\\\\n        chksum    = 0xcccb\\\\\\\\\\\\\\\\n        urgptr    = 0\\\\\\\\\\\\\\\\n        options   = [(\\\\\\\\\\'NOP\\\\\\\\\\', None), (\\\\\\\\\\'NOP\\\\\\\\\\', None), (\\\\\\\\\\'Timestamp\\\\\\\\\\', (3584400906, 6971615))]\\\\\\\\\\\\\\\\n###[ Raw ]### \\\\\\\\\\\\\\\\n           load      = \\\\\\\\\\'\\\\\\\\\\\\\\\\\\\\\\\\\\\\\\\\x81~\\\\\\\\\\\\\\\\\\\\\\\\\\\\\\\\x0f\\\\\\\\\\\\\\\\\\\\\\\\\\\\\\\\xc1{\\\\\\\\\\\\\\\\\\\\\"header\\\\\\\\\\\\\\\\\\\\\": {\\\\\\\\\\\\\\\\\\\\\"msg_id\\\\\\\\\\\\\\\\\\\\\": \\\\\\\\\\\\\\\\\\\\\"af3cbb58-964b8a375a01ca0c5fab07f5\\\\\\\\\\\\\\\\\\\\\", \\\\\\\\\\\\\\\\\\\\\"msg_type\\\\\\\\\\\\\\\\\\\\\": \\\\\\\\\\\\\\\\\\\\\"stream\\\\\\\\\\\\\\\\\\\\\", \\\\\\\\\\\\\\\\\\\\\"username\\\\\\\\\\\\\\\\\\\\\": \\\\\\\\\\\\\\\\\\\\\"root\\\\\\\\\\\\\\\\\\\\\", \\\\\\\\\\\\\\\\\\\\\"session\\\\\\\\\\\\\\\\\\\\\": \\\\\\\\\\\\\\\\\\\\\"e53220c9-a8422bd20e783dcc9e128eab\\\\\\\\\\\\\\\\\\\\\", \\\\\\\\\\\\\\\\\\\\\"date\\\\\\\\\\\\\\\\\\\\\": \\\\\\\\\\\\\\\\\\\\\"2019-04-08T15:51:20.681388Z\\\\\\\\\\\\\\\\\\\\\", \\\\\\\\\\\\\\\\\\\\\"version\\\\\\\\\\\\\\\\\\\\\": \\\\\\\\\\\\\\\\\\\\\"5.3\\\\\\\\\\\\\\\\\\\\\"}, \\\\\\\\\\\\\\\\\\\\\"msg_id\\\\\\\\\\\\\\\\\\\\\": \\\\\\\\\\\\\\\\\\\\\"af3cbb58-964b8a375a01ca0c5fab07f5\\\\\\\\\\\\\\\\\\\\\", \\\\\\\\\\\\\\\\\\\\\"msg_type\\\\\\\\\\\\\\\\\\\\\": \\\\\\\\\\\\\\\\\\\\\"stream\\\\\\\\\\\\\\\\\\\\\", \\\\\\\\\\\\\\\\\\\\\"parent_header\\\\\\\\\\\\\\\\\\\\\": {\\\\\\\\\\\\\\\\\\\\\"msg_id\\\\\\\\\\\\\\\\\\\\\": \\\\\\\\\\\\\\\\\\\\\"bfb8b6e3c24f4c9284e3100d2aab2d1e\\\\\\\\\\\\\\\\\\\\\", \\\\\\\\\\\\\\\\\\\\\"username\\\\\\\\\\\\\\\\\\\\\": \\\\\\\\\\\\\\\\\\\\\"username\\\\\\\\\\\\\\\\\\\\\", \\\\\\\\\\\\\\\\\\\\\"session\\\\\\\\\\\\\\\\\\\\\": \\\\\\\\\\\\\\\\\\\\\"fc4c591200f8459e8263db8049fd0c1b\\\\\\\\\\\\\\\\\\\\\", \\\\\\\\\\\\\\\\\\\\\"msg_type\\\\\\\\\\\\\\\\\\\\\": \\\\\\\\\\\\\\\\\\\\\"execute_request\\\\\\\\\\\\\\\\\\\\\", \\\\\\\\\\\\\\\\\\\\\"version\\\\\\\\\\\\\\\\\\\\\": \\\\\\\\\\\\\\\\\\\\\"5.2\\\\\\\\\\\\\\\\\\\\\", \\\\\\\\\\\\\\\\\\\\\"date\\\\\\\\\\\\\\\\\\\\\": \\\\\\\\\\\\\\\\\\\\\"2019-04-08T15:51:19.413184Z\\\\\\\\\\\\\\\\\\\\\"}, \\\\\\\\\\\\\\\\\\\\\"metadata\\\\\\\\\\\\\\\\\\\\\": {}, \\\\\\\\\\\\\\\\\\\\\"content\\\\\\\\\\\\\\\\\\\\\": {\\\\\\\\\\\\\\\\\\\\\"name\\\\\\\\\\\\\\\\\\\\\": \\\\\\\\\\\\\\\\\\\\\"stdout\\\\\\\\\\\\\\\\\\\\\", \\\\\\\\\\\\\\\\\\\\\"text\\\\\\\\\\\\\\\\\\\\\": \\\\\\\\\\\\\\\\\\\\\"###[ Ethernet ]### \\\\\\\\\\\\\\\\\\\\\\\\\\\\\\\\\\\\\\\\\\\\\\\\\\\\\\\\\\\\\\\\n  dst       = 02:42:ac:12:00:02\\\\\\\\\\\\\\\\\\\\\\\\\\\\\\\\\\\\\\\\\\\\\\\\\\\\\\\\\\\\\\\\n  src       = 02:42:38:f0:f2:77\\\\\\\\\\\\\\\\\\\\\\\\\\\\\\\\\\\\\\\\\\\\\\\\\\\\\\\\\\\\\\\\n  type      = 0x800\\\\\\\\\\\\\\\\\\\\\\\\\\\\\\\\\\\\\\\\\\\\\\\\\\\\\\\\\\\\\\\\n###[ IP ]### \\\\\\\\\\\\\\\\\\\\\\\\\\\\\\\\\\\\\\\\\\\\\\\\\\\\\\\\\\\\\\\\n     version   = 4\\\\\\\\\\\\\\\\\\\\\\\\\\\\\\\\\\\\\\\\\\\\\\\\\\\\\\\\\\\\\\\\n     ihl       = 5\\\\\\\\\\\\\\\\\\\\\\\\\\\\\\\\\\\\\\\\\\\\\\\\\\\\\\\\\\\\\\\\n     tos       = 0x0\\\\\\\\\\\\\\\\\\\\\\\\\\\\\\\\\\\\\\\\\\\\\\\\\\\\\\\\\\\\\\\\n     len       = 494\\\\\\\\\\\\\\\\\\\\\\\\\\\\\\\\\\\\\\\\\\\\\\\\\\\\\\\\\\\\\\\\n     id        = 65221\\\\\\\\\\\\\\\\\\\\\\\\\\\\\\\\\\\\\\\\\\\\\\\\\\\\\\\\\\\\\\\\n     flags     = DF\\\\\\\\\\\\\\\\\\\\\\\\\\\\\\\\\\\\\\\\\\\\\\\\\\\\\\\\\\\\\\\\n     frag      = 0\\\\\\\\\\\\\\\\\\\\\\\\\\\\\\\\\\\\\\\\\\\\\\\\\\\\\\\\\\\\\\\\n     ttl       = 63\\\\\\\\\\\\\\\\\\\\\\\\\\\\\\\\\\\\\\\\\\\\\\\\\\\\\\\\\\\\\\\\n     proto     = tcp\\\\\\\\\\\\\\\\\\\\\\\\\\\\\\\\\\\\\\\\\\\\\\\\\\\\\\\\\\\\\\\\n     chksum    = 0x7e64\\\\\\\\\\\\\\\\\\\\\\\\\\\\\\\\\\\\\\\\\\\\\\\\\\\\\\\\\\\\\\\\n     src       = 10.203.6.1\\\\\\\\\\\\\\\\\\\\\\\\\\\\\\\\\\\\\\\\\\\\\\\\\\\\\\\\\\\\\\\\n     dst       = 172.18.0.2\\\\\\\\\\\\\\\\\\\\\\\\\\\\\\\\\\\\\\\\\\\\\\\\\\\\\\\\\\\\\\\\n     \\\\\\\\\\\\\\\\\\\\\\\\\\\\\\\\\\\\\\\\\\\\\\\\\\\\\\\\\\\\\\\\\\\\\\\\\\\\\\\\\\\\\\\\\\\\\\\\\\\\\\\\\\\\\\\\\\\\\\\\\\\\\\\\options   \\\\\\\\\\\\\\\\\\\\\\\\\\\\\\\\\\\\\\\\\\\\\\\\\\\\\\\\\\\\\\\\\\\\\\\\\\\\\\\\\\\\\\\\\\\\\\\\\\\\\\\\\\\\\\\\\\\\\\\\\\\\\\\\\\\\\\\\\\\\\\\\\\\\\\\\\\\\\\\\\\\\\\\\\\\\\\\\\\\\\\\\\\\\\\\\n###[ TCP ]### \\\\\\\\\\\\\\\\\\\\\\\\\\\\\\\\\\\\\\\\\\\\\\\\\\\\\\\\\\\\\\\\n        sport     = 40606\\\\\\\\\\\\\\\\\\\\\\\\\\\\\\\\\\\\\\\\\\\\\\\\\\\\\\\\\\\\\\\\n        dport     = 8888\\\\\\\\\\\\\\\\\\\\\\\\\\\\\\\\\\\\\\\\\\\\\\\\\\\\\\\\\\\\\\\\n        seq       = 890792378\\\\\\\\\\\\\\\\\\\\\\\\\\\\\\\\\\\\\\\\\\\\\\\\\\\\\\\\\\\\\\\\n        ack       = 1140458654\\\\\\\\\\\\\\\\\\\\\\\\\\\\\\\\\\\\\\\\\\\\\\\\\\\\\\\\\\\\\\\\n        dataofs   = 8\\\\\\\\\\\\\\\\\\\\\\\\\\\\\\\\\\\\\\\\\\\\\\\\\\\\\\\\\\\\\\\\n        reserved  = 0\\\\\\\\\\\\\\\\\\\\\\\\\\\\\\\\\\\\\\\\\\\\\\\\\\\\\\\\\\\\\\\\n        flags     = PA\\\\\\\\\\\\\\\\\\\\\\\\\\\\\\\\\\\\\\\\\\\\\\\\\\\\\\\\\\\\\\\\n        window    = 59\\\\\\\\\\\\\\\\\\\\\\\\\\\\\\\\\\\\\\\\\\\\\\\\\\\\\\\\\\\\\\\\n        chksum    = 0x8fae\\\\\\\\\\\\\\\\\\\\\\\\\\\\\\\\\\\\\\\\\\\\\\\\\\\\\\\\\\\\\\\\n        urgptr    = 0\\\\\\\\\\\\\\\\\\\\\\\\\\\\\\\\\\\\\\\\\\\\\\\\\\\\\\\\\\\\\\\\n        options   = [(\\\\\\\\\\\\\\\\\\\\\\\\\\\\\\\\\\\\\\\\\\'NOP\\\\\\\\\\\\\\\\\\\\\\\\\\\\\\\\\\\\\\\\\\', None), (\\\\\\\\\\\\\\\\\\\\\\\\\\\\\\\\\\\\\\\\\\'NOP\\\\\\\\\\\\\\\\\\\\\\\\\\\\\\\\\\\\\\\\\\', None), (\\\\\\\\\\\\\\\\\\\\\\\\\\\\\\\\\\\\\\\\\\'Timestamp\\\\\\\\\\\\\\\\\\\\\\\\\\\\\\\\\\\\\\\\\\', (6971879, 3584397720))]\\\\\\\\\\\\\\\\\\\\\\\\\\\\\\\\\\\\\\\\\\\\\\\\\\\\\\\\\\\\\\\\n###[ Raw ]### \\\\\\\\\\\\\\\\\\\\\\\\\\\\\\\\\\\\\\\\\\\\\\\\\\\\\\\\\\\\\\\\n           load      = \\\\\\\\\\\\\\\\\\\\\\\\\\\\\\\\\\\\\\\\\\'GET /static/base/images/favicon-busy-1.ico HTTP/1.1\\\\\\\\\\\\\\\\\\\\\\\\\\\\\\\\\\\\\\\\\\\\\\\\\\\\\\\\\\\\\\\\\\\\\\\\\\\\\\\\\\\\\\\\\\\\\\\\\\\\\\\\\\\\\\\\\\\\\\\\\\\\\\\\r\\\\\\\\\\\\\\\\\\\\\\\\\\\\\\\\\\\\\\\\\\\\\\\\\\\\\\\\\\\\\\\\\\\\\\\\\\\\\\\\\\\\\\\\\\\\\\\\\\\\\\\\\\\\\\\\\\\\\\\\\\\\\\\\nHost: 10.203.6.2:8888\\\\\\\\\\\\\\\\\\\\\\\\\\\\\\\\\\\\\\\\\\\\\\\\\\\\\\\\\\\\\\\\\\\\\\\\\\\\\\\\\\\\\\\\\\\\\\\\\\\\\\\\\\\\\\\\\\\\\\\\\\\\\\\\r\\\\\\\\\\\\\\\\\\\\\\\\\\\\\\\\\\\\\\\\\\\\\\\\\\\\\\\\\\\\\\\\\\\\\\\\\\\\\\\\\\\\\\\\\\\\\\\\\\\\\\\\\\\\\\\\\\\\\\\\\\\\\\\\nUser-Agent: Mozilla/5.0 (X11; Linux x86_64; rv:52.0) Gecko/20100101 Firefox/52.0\\\\\\\\\\\\\\\\\\\\\\\\\\\\\\\\\\\\\\\\\\\\\\\\\\\\\\\\\\\\\\\\\\\\\\\\\\\\\\\\\\\\\\\\\\\\\\\\\\\\\\\\\\\\\\\\\\\\\\\\\\\\\\\\r\\\\\\\\\\\\\\\\\\\\\\\\\\\\\\\\\\\\\\\\\\\\\\\\\\\\\\\\\\\\\\\\\\\\\\\\\\\\\\\\\\\\\\\\\\\\\\\\\\\\\\\\\\\\\\\\\\\\\\\\\\\\\\\\nAccept: text/html,application/xhtml+xml,application/xml;q=0.9,*/*;q=0.8\\\\\\\\\\\\\\\\\\\\\\\\\\\\\\\\\\\\\\\\\\\\\\\\\\\\\\\\\\\\\\\\\\\\\\\\\\\\\\\\\\\\\\\\\\\\\\\\\\\\\\\\\\\\\\\\\\\\\\\\\\\\\\\\r\\\\\\\\\\\\\\\\\\\\\\\\\\\\\\\\\\\\\\\\\\\\\\\\\\\\\\\\\\\\\\\\\\\\\\\\\\\\\\\\\\\\\\\\\\\\\\\\\\\\\\\\\\\\\\\\\\\\\\\\\\\\\\\\nAccept-Language: en-US,en;q=0.5\\\\\\\\\\\\\\\\\\\\\\\\\\\\\\\\\\\\\\\\\\\\\\\\\\\\\\\\\\\\\\\\\\\\\\\\\\\\\\\\\\\\\\\\\\\\\\\\\\\\\\\\\\\\\\\\\\\\\\\\\\\\\\\\r\\\\\\\\\\\\\\\\\\\\\\\\\\\\\\\\\\\\\\\\\\\\\\\\\\\\\\\\\\\\\\\\\\\\\\\\\\\\\\\\\\\\\\\\\\\\\\\\\\\\\\\\\\\\\\\\\\\\\\\\\\\\\\\\nAccept-Encoding: gzip, deflate\\\\\\\\\\\\\\\\\\\\\\\\\\\\\\\\\\\\\\\\\\\\\\\\\\\\\\\\\\\\\\\\\\\\\\\\\\\\\\\\\\\\\\\\\\\\\\\\\\\\\\\\\\\\\\\\\\\\\\\\\\\\\\\\r\\\\\\\\\\\\\\\\\\\\\\\\\\\\\\\\\\\\\\\\\\\\\\\\\\\\\\\\\\\\\\\\\\\\\\\\\\\\\\\\\\\\\\\\\\\\\\\\\\\\\\\\\\\\\\\\\\\\\\\\\\\\\\\\nCookie: _xsrf=2|ec7dc1e2|3a9c9ca72516c4fde354c5408f662279|1554715461\\\\\\\\\\\\\\\\\\\\\\\\\\\\\\\\\\\\\\\\\\\\\\\\\\\\\\\\\\\\\\\\\\\\\\\\\\\\\\\\\\\\\\\\\\\\\\\\\\\\\\\\\\\\\\\\\\\\\\\\\\\\\\\\r\\\\\\\\\\\\\\\\\\\\\\\\\\\\\\\\\\\\\\\\\\\\\\\\\\\\\\\\\\\\\\\\\\\\\\\\\\\\\\\\\\\\\\\\\\\\\\\\\\\\\\\\\\\\\\\\\\\\\\\\\\\\\\\\nConnection: keep-alive\\\\\\\\\\\\\\\\\\\\\\\\\\\\\\\\\\\\\\\\\\\\\\\\\\\\\\\\\\\\\\\\\\\\\\\\\\\\\\\\\\\\\\\\\\\\\\\\\\\\\\\\\\\\\\\\\\\\\\\\\\\\\\\\r\\\\\\\\\\\\\\\\\\\\\\\\\\\\\\\\\\\\\\\\\\\\\\\\\\\\\\\\\\\\\\\\\\\\\\\\\\\\\\\\\\\\\\\\\\\\\\\\\\\\\\\\\\\\\\\\\\\\\\\\\\\\\\\\nIf-Modified-Since: Thu, 28 Mar 2019 11:13:02 GMT\\\\\\\\\\\\\\\\\\\\\\\\\\\\\\\\\\\\\\\\\\\\\\\\\\\\\\\\\\\\\\\\\\\\\\\\\\\\\\\\\\\\\\\\\\\\\\\\\\\\\\\\\\\\\\\\\\\\\\\\\\\\\\\\r\\\\\\\\\\\\\\\\\\\\\\\\\\\\\\\\\\\\\\\\\\\\\\\\\\\\\\\\\\\\\\\\\\\\\\\\\\\\\\\\\\\\\\\\\\\\\\\\\\\\\\\\\\\\\\\\\\\\\\\\\\\\\\\\n\\\\\\\\\\\\\\\\\\\\\\\\\\\\\\\\\\\\\\\\\\\\\\\\\\\\\\\\\\\\\\\\\\\\\\\\\\\\\\\\\\\\\\\\\\\\\\\\\\\\\\\\\\\\\\\\\\\\\\\\\\\\\\\\r\\\\\\\\\\\\\\\\\\\\\\\\\\\\\\\\\\\\\\\\\\\\\\\\\\\\\\\\\\\\\\\\\\\\\\\\\\\\\\\\\\\\\\\\\\\\\\\\\\\\\\\\\\\\\\\\\\\\\\\\\\\\\\\\n\\\\\\\\\\\\\\\\\\\\\\\\\\\\\\\\\\\\\\\\\\'\\\\\\\\\\\\\\\\\\\\\\\\\\\\\\\\\\\\\\\\\\\\\\\\\\\\\\\\\\\\\\\\n\\\\\\\\\\\\\\\\\\\\\\\\\\\\\\\\\\\\\\\\\\\\\\\\\\\\\\\\\\\\\\\\nPacket #1: proto: 6 10.203.6.1 ==> 172.18.0.2 sport: 40606  ==> 8888 \\\\\\\\\\\\\\\\\\\\\\\\\\\\\\\\\\\\\\\\\\\\\\\\\\\\\\\\\\\\\\\\n###[ Ethernet ]### \\\\\\\\\\\\\\\\\\\\\\\\\\\\\\\\\\\\\\\\\\\\\\\\\\\\\\\\\\\\\\\\n  dst       = 02:42:38:f0:f2:77\\\\\\\\\\\\\\\\\\\\\\\\\\\\\\\\\\\\\\\\\\\\\\\\\\\\\\\\\\\\\\\\n  src       = 02:42:ac:12:00:02\\\\\\\\\\\\\\\\\\\\\\\\\\\\\\\\\\\\\\\\\\\\\\\\\\\\\\\\\\\\\\\\n  type      = 0x800\\\\\\\\\\\\\\\\\\\\\\\\\\\\\\\\\\\\\\\\\\\\\\\\\\\\\\\\\\\\\\\\n###[ IP ]### \\\\\\\\\\\\\\\\\\\\\\\\\\\\\\\\\\\\\\\\\\\\\\\\\\\\\\\\\\\\\\\\n     version   = 4\\\\\\\\\\\\\\\\\\\\\\\\\\\\\\\\\\\\\\\\\\\\\\\\\\\\\\\\\\\\\\\\n     ihl       = 5\\\\\\\\\\\\\\\\\\\\\\\\\\\\\\\\\\\\\\\\\\\\\\\\\\\\\\\\\\\\\\\\n     tos       = 0x0\\\\\\\\\\\\\\\\\\\\\\\\\\\\\\\\\\\\\\\\\\\\\\\\\\\\\\\\\\\\\\\\n     len       = 313\\\\\\\\\\\\\\\\\\\\\\\\\\\\\\\\\\\\\\\\\\\\\\\\\\\\\\\\\\\\\\\\n     id        = 43692\\\\\\\\\\\\\\\\\\\\\\\\\\\\\\\\\\\\\\\\\\\\\\\\\\\\\\\\\\\\\\\\n     flags     = DF\\\\\\\\\\\\\\\\\\\\\\\\\\\\\\\\\\\\\\\\\\\\\\\\\\\\\\\\\\\\\\\\n     frag      = 0\\\\\\\\\\\\\\\\\\\\\\\\\\\\\\\\\\\\\\\\\\\\\\\\\\\\\\\\\\\\\\\\n     ttl       = 64\\\\\\\\\\\\\\\\\\\\\\\\\\\\\\\\\\\\\\\\\\\\\\\\\\\\\\\\\\\\\\\\n     proto     = tcp\\\\\\\\\\\\\\\\\\\\\\\\\\\\\\\\\\\\\\\\\\\\\\\\\\\\\\\\\\\\\\\\n     chksum    = 0xd232\\\\\\\\\\\\\\\\\\\\\\\\\\\\\\\\\\\\\\\\\\\\\\\\\\\\\\\\\\\\\\\\n     src       = 172.18.0.2\\\\\\\\\\\\\\\\\\\\\\\\\\\\\\\\\\\\\\\\\\\\\\\\\\\\\\\\\\\\\\\\n     dst       = 10.203.6.1\\\\\\\\\\\\\\\\\\\\\\\\\\\\\\\\\\\\\\\\\\\\\\\\\\\\\\\\\\\\\\\\n     \\\\\\\\\\\\\\\\\\\\\\\\\\\\\\\\\\\\\\\\\\\\\\\\\\\\\\\\\\\\\\\\\\\\\\\\\\\\\\\\\\\\\\\\\\\\\\\\\\\\\\\\\\\\\\\\\\\\\\\\'\n",
      "\n",
      "Packet #8: proto: 6 172.18.0.2 ==> 10.203.6.1 sport: 8888  ==> 40554 \n",
      "###[ Ethernet ]### \n",
      "  dst       = 02:42:38:f0:f2:77\n",
      "  src       = 02:42:ac:12:00:02\n",
      "  type      = 0x800\n",
      "###[ IP ]### \n",
      "     version   = 4\n",
      "     ihl       = 5\n",
      "     tos       = 0x0\n",
      "     len       = 5345\n",
      "     id        = 24167\n",
      "     flags     = DF\n",
      "     frag      = 0\n",
      "     ttl       = 64\n",
      "     proto     = tcp\n",
      "     chksum    = 0xad0\n",
      "     src       = 172.18.0.2\n",
      "     dst       = 10.203.6.1\n",
      "     \\options   \\\n",
      "###[ TCP ]### \n",
      "        sport     = 8888\n",
      "        dport     = 40554\n",
      "        seq       = 903325844\n",
      "        ack       = 3085382087\n",
      "        dataofs   = 8\n",
      "        reserved  = 0\n",
      "        flags     = PA\n",
      "        window    = 609\n",
      "        chksum    = 0xd1b3\n",
      "        urgptr    = 0\n",
      "        options   = [('NOP', None), ('NOP', None), ('Timestamp', (3584401329, 6971985))]\n",
      "###[ Raw ]### \n",
      "           load      = '\\\\\\\\options   \\\\\\\\\\\\\\\\\\\\\\\\\\\\\\\\\\\\\\\\\\\\\\\\\\\\\\\\\\\\\\\\\\\\\\\\\\\\\\\\\\\\\\\\\\\\\\\\\\\\\\\\\\\\\\\\\\\\\\\\\\\\\\\\\\\\\\\\\\\\\\\\\\\\\\\\\\\\\\\\\\\\\\\\\\\\\\\\\\\\\\\\\\\\\\\\n###[ TCP ]### \\\\\\\\\\\\\\\\\\\\\\\\\\\\\\\\\\\\\\\\\\\\\\\\\\\\\\\\\\\\\\\\n        sport     = 8888\\\\\\\\\\\\\\\\\\\\\\\\\\\\\\\\\\\\\\\\\\\\\\\\\\\\\\\\\\\\\\\\n        dport     = 40606\\\\\\\\\\\\\\\\\\\\\\\\\\\\\\\\\\\\\\\\\\\\\\\\\\\\\\\\\\\\\\\\n        seq       = 1140458654\\\\\\\\\\\\\\\\\\\\\\\\\\\\\\\\\\\\\\\\\\\\\\\\\\\\\\\\\\\\\\\\n        ack       = 890792820\\\\\\\\\\\\\\\\\\\\\\\\\\\\\\\\\\\\\\\\\\\\\\\\\\\\\\\\\\\\\\\\n        dataofs   = 8\\\\\\\\\\\\\\\\\\\\\\\\\\\\\\\\\\\\\\\\\\\\\\\\\\\\\\\\\\\\\\\\n        reserved  = 0\\\\\\\\\\\\\\\\\\\\\\\\\\\\\\\\\\\\\\\\\\\\\\\\\\\\\\\\\\\\\\\\n        flags     = PA\\\\\\\\\\\\\\\\\\\\\\\\\\\\\\\\\\\\\\\\\\\\\\\\\\\\\\\\\\\\\\\\n        window    = 1452\\\\\\\\\\\\\\\\\\\\\\\\\\\\\\\\\\\\\\\\\\\\\\\\\\\\\\\\\\\\\\\\n        chksum    = 0xbe0b\\\\\\\\\\\\\\\\\\\\\\\\\\\\\\\\\\\\\\\\\\\\\\\\\\\\\\\\\\\\\\\\n        urgptr    = 0\\\\\\\\\\\\\\\\\\\\\\\\\\\\\\\\\\\\\\\\\\\\\\\\\\\\\\\\\\\\\\\\n        options   = [(\\\\\\\\\\\\\\\\\\\\\\\\\\\\\\\\\\\\\\\\\\'NOP\\\\\\\\\\\\\\\\\\\\\\\\\\\\\\\\\\\\\\\\\\', None), (\\\\\\\\\\\\\\\\\\\\\\\\\\\\\\\\\\\\\\\\\\'NOP\\\\\\\\\\\\\\\\\\\\\\\\\\\\\\\\\\\\\\\\\\', None), (\\\\\\\\\\\\\\\\\\\\\\\\\\\\\\\\\\\\\\\\\\'Timestamp\\\\\\\\\\\\\\\\\\\\\\\\\\\\\\\\\\\\\\\\\\', (3584400697, 6971879))]\\\\\\\\\\\\\\\\\\\\\\\\\\\\\\\\\\\\\\\\\\\\\\\\\\\\\\\\\\\\\\\\n###[ Raw ]### \\\\\\\\\\\\\\\\\\\\\\\\\\\\\\\\\\\\\\\\\\\\\\\\\\\\\\\\\\\\\\\\n           load      = \\\\\\\\\\\\\\\\\\\\\\\\\\\\\\\\\\\\\\\\\\\\\\\\\\\\\\\\\\\\\\\\\\\\\\\\\\\\\\\\\\\\\"HTTP/1.1 304 Not Modified\\\\\\\\\\\\\\\\\\\\\\\\\\\\\\\\\\\\\\\\\\\\\\\\\\\\\\\\\\\\\\\\\\\\\\\\\\\\\\\\\\\\\\\\\\\\\\\\\\\\\\\\\\\\\\\\\\\\\\\\\\\\\\\\r\\\\\\\\\\\\\\\\\\\\\\\\\\\\\\\\\\\\\\\\\\\\\\\\\\\\\\\\\\\\\\\\\\\\\\\\\\\\\\\\\\\\\\\\\\\\\\\\\\\\\\\\\\\\\\\\\\\\\\\\\\\\\\\\nServer: TornadoServer/6.0.2\\\\\\\\\\\\\\\\\\\\\\\\\\\\\\\\\\\\\\\\\\\\\\\\\\\\\\\\\\\\\\\\\\\\\\\\\\\\\\\\\\\\\\\\\\\\\\\\\\\\\\\\\\\\\\\\\\\\\\\\\\\\\\\\r\\\\\\\\\\\\\\\\\\\\\\\\\\\\\\\\\\\\\\\\\\\\\\\\\\\\\\\\\\\\\\\\\\\\\\\\\\\\\\\\\\\\\\\\\\\\\\\\\\\\\\\\\\\\\\\\\\\\\\\\\\\\\\\\nDate: Mon, 08 Apr 2019 15:51:20 GMT\\\\\\\\\\\\\\\\\\\\\\\\\\\\\\\\\\\\\\\\\\\\\\\\\\\\\\\\\\\\\\\\\\\\\\\\\\\\\\\\\\\\\\\\\\\\\\\\\\\\\\\\\\\\\\\\\\\\\\\\\\\\\\\\r\\\\\\\\\\\\\\\\\\\\\\\\\\\\\\\\\\\\\\\\\\\\\\\\\\\\\\\\\\\\\\\\\\\\\\\\\\\\\\\\\\\\\\\\\\\\\\\\\\\\\\\\\\\\\\\\\\\\\\\\\\\\\\\\nX-Content-Type-Options: nosniff\\\\\\\\\\\\\\\\\\\\\\\\\\\\\\\\\\\\\\\\\\\\\\\\\\\\\\\\\\\\\\\\\\\\\\\\\\\\\\\\\\\\\\\\\\\\\\\\\\\\\\\\\\\\\\\\\\\\\\\\\\\\\\\\r\\\\\\\\\\\\\\\\\\\\\\\\\\\\\\\\\\\\\\\\\\\\\\\\\\\\\\\\\\\\\\\\\\\\\\\\\\\\\\\\\\\\\\\\\\\\\\\\\\\\\\\\\\\\\\\\\\\\\\\\\\\\\\\\nContent-Security-Policy: frame-ancestors \\\\\\\\\\\\\\\\\\\\\\\\\\\\\\\\\\\\\\\\\\'self\\\\\\\\\\\\\\\\\\\\\\\\\\\\\\\\\\\\\\\\\\'; report-uri /api/security/csp-report\\\\\\\\\\\\\\\\\\\\\\\\\\\\\\\\\\\\\\\\\\\\\\\\\\\\\\\\\\\\\\\\\\\\\\\\\\\\\\\\\\\\\\\\\\\\\\\\\\\\\\\\\\\\\\\\\\\\\\\\\\\\\\\\r\\\\\\\\\\\\\\\\\\\\\\\\\\\\\\\\\\\\\\\\\\\\\\\\\\\\\\\\\\\\\\\\\\\\\\\\\\\\\\\\\\\\\\\\\\\\\\\\\\\\\\\\\\\\\\\\\\\\\\\\\\\\\\\\nAccept-Ranges: bytes\\\\\\\\\\\\\\\\\\\\\\\\\\\\\\\\\\\\\\\\\\\\\\\\\\\\\\\\\\\\\\\\\\\\\\\\\\\\\\\\\\\\\\\\\\\\\\\\\\\\\\\\\\\\\\\\\\\\\\\\\\\\\\\\r\\\\\\\\\\\\\\\\\\\\\\\\\\\\\\\\\\\\\\\\\\\\\\\\\\\\\\\\\\\\\\\\\\\\\\\\\\\\\\\\\\\\\\\\\\\\\\\\\\\\\\\\\\\\\\\\\\\\\\\\\\\\\\\\nCache-Control: no-cache\\\\\\\\\\\\\\\\\\\\\\\\\\\\\\\\\\\\\\\\\\\\\\\\\\\\\\\\\\\\\\\\\\\\\\\\\\\\\\\\\\\\\\\\\\\\\\\\\\\\\\\\\\\\\\\\\\\\\\\\\\\\\\\\r\\\\\\\\\\\\\\\\\\\\\\\\\\\\\\\\\\\\\\\\\\\\\\\\\\\\\\\\\\\\\\\\\\\\\\\\\\\\\\\\\\\\\\\\\\\\\\\\\\\\\\\\\\\\\\\\\\\\\\\\\\\\\\\\n\\\\\\\\\\\\\\\\\\\\\\\\\\\\\\\\\\\\\\\\\\\\\\\\\\\\\\\\\\\\\\\\\\\\\\\\\\\\\\\\\\\\\\\\\\\\\\\\\\\\\\\\\\\\\\\\\\\\\\\\\\\\\\\\r\\\\\\\\\\\\\\\\\\\\\\\\\\\\\\\\\\\\\\\\\\\\\\\\\\\\\\\\\\\\\\\\\\\\\\\\\\\\\\\\\\\\\\\\\\\\\\\\\\\\\\\\\\\\\\\\\\\\\\\\\\\\\\\\n\\\\\\\\\\\\\\\\\\\\\\\\\\\\\\\\\\\\\\\\\\\\\\\\\\\\\\\\\\\\\\\\\\\\\\\\\\\\\\\\\\\\\"\\\\\\\\\\\\\\\\\\\\\\\\\\\\\\\\\\\\\\\\\\\\\\\\\\\\\\\\\\\\\\\\n\\\\\\\\\\\\\\\\\\\\\\\\\\\\\\\\\\\\\\\\\\\\\\\\\\\\\\\\\\\\\\\\nPacket #2: proto: 6 172.18.0.2 ==> 10.203.6.1 sport: 8888  ==> 40606 \\\\\\\\\\\\\\\\\\\\\\\\\\\\\\\\\\\\\\\\\\\\\\\\\\\\\\\\\\\\\\\\n###[ Ethernet ]### \\\\\\\\\\\\\\\\\\\\\\\\\\\\\\\\\\\\\\\\\\\\\\\\\\\\\\\\\\\\\\\\n  dst       = 02:42:ac:12:00:02\\\\\\\\\\\\\\\\\\\\\\\\\\\\\\\\\\\\\\\\\\\\\\\\\\\\\\\\\\\\\\\\n  src       = 02:42:38:f0:f2:77\\\\\\\\\\\\\\\\\\\\\\\\\\\\\\\\\\\\\\\\\\\\\\\\\\\\\\\\\\\\\\\\n  type      = 0x800\\\\\\\\\\\\\\\\\\\\\\\\\\\\\\\\\\\\\\\\\\\\\\\\\\\\\\\\\\\\\\\\n###[ IP ]### \\\\\\\\\\\\\\\\\\\\\\\\\\\\\\\\\\\\\\\\\\\\\\\\\\\\\\\\\\\\\\\\n     version   = 4\\\\\\\\\\\\\\\\\\\\\\\\\\\\\\\\\\\\\\\\\\\\\\\\\\\\\\\\\\\\\\\\n     ihl       = 5\\\\\\\\\\\\\\\\\\\\\\\\\\\\\\\\\\\\\\\\\\\\\\\\\\\\\\\\\\\\\\\\n     tos       = 0x0\\\\\\\\\\\\\\\\\\\\\\\\\\\\\\\\\\\\\\\\\\\\\\\\\\\\\\\\\\\\\\\\n     len       = 52\\\\\\\\\\\\\\\\\\\\\\\\\\\\\\\\\\\\\\\\\\\\\\\\\\\\\\\\\\\\\\\\n     id        = 65222\\\\\\\\\\\\\\\\\\\\\\\\\\\\\\\\\\\\\\\\\\\\\\\\\\\\\\\\\\\\\\\\n     flags     = DF\\\\\\\\\\\\\\\\\\\\\\\\\\\\\\\\\\\\\\\\\\\\\\\\\\\\\\\\\\\\\\\\n     frag      = 0\\\\\\\\\\\\\\\\\\\\\\\\\\\\\\\\\\\\\\\\\\\\\\\\\\\\\\\\\\\\\\\\n     ttl       = 63\\\\\\\\\\\\\\\\\\\\\\\\\\\\\\\\\\\\\\\\\\\\\\\\\\\\\\\\\\\\\\\\n     proto     = tcp\\\\\\\\\\\\\\\\\\\\\\\\\\\\\\\\\\\\\\\\\\\\\\\\\\\\\\\\\\\\\\\\n     chksum    = 0x801d\\\\\\\\\\\\\\\\\\\\\\\\\\\\\\\\\\\\\\\\\\\\\\\\\\\\\\\\\\\\\\\\n     src       = 10.203.6.1\\\\\\\\\\\\\\\\\\\\\\\\\\\\\\\\\\\\\\\\\\\\\\\\\\\\\\\\\\\\\\\\n     dst       = 172.18.0.2\\\\\\\\\\\\\\\\\\\\\\\\\\\\\\\\\\\\\\\\\\\\\\\\\\\\\\\\\\\\\\\\n     \\\\\\\\\\\\\\\\\\\\\\\\\\\\\\\\\\\\\\\\\\\\\\\\\\\\\\\\\\\\\\\\\\\\\\\\\\\\\\\\\\\\\\\\\\\\\\\\\\\\\\\\\\\\\\\\\\\\\\\\\\\\\\\\options   \\\\\\\\\\\\\\\\\\\\\\\\\\\\\\\\\\\\\\\\\\\\\\\\\\\\\\\\\\\\\\\\\\\\\\\\\\\\\\\\\\\\\\\\\\\\\\\\\\\\\\\\\\\\\\\\\\\\\\\\\\\\\\\\\\\\\\\\\\\\\\\\\\\\\\\\\\\\\\\\\\\\\\\\\\\\\\\\\\\\\\\\\\\\\\\\n###[ TCP ]### \\\\\\\\\\\\\\\\\\\\\\\\\\\\\\\\\\\\\\\\\\\\\\\\\\\\\\\\\\\\\\\\n        sport     = 40606\\\\\\\\\\\\\\\\\\\\\\\\\\\\\\\\\\\\\\\\\\\\\\\\\\\\\\\\\\\\\\\\n        dport     = 8888\\\\\\\\\\\\\\\\\\\\\\\\\\\\\\\\\\\\\\\\\\\\\\\\\\\\\\\\\\\\\\\\n        seq       = 890792820\\\\\\\\\\\\\\\\\\\\\\\\\\\\\\\\\\\\\\\\\\\\\\\\\\\\\\\\\\\\\\\\n        ack       = 1140458915\\\\\\\\\\\\\\\\\\\\\\\\\\\\\\\\\\\\\\\\\\\\\\\\\\\\\\\\\\\\\\\\n        dataofs   = 8\\\\\\\\\\\\\\\\\\\\\\\\\\\\\\\\\\\\\\\\\\\\\\\\\\\\\\\\\\\\\\\\n        reserved  = 0\\\\\\\\\\\\\\\\\\\\\\\\\\\\\\\\\\\\\\\\\\\\\\\\\\\\\\\\\\\\\\\\n        flags     = A\\\\\\\\\\\\\\\\\\\\\\\\\\\\\\\\\\\\\\\\\\\\\\\\\\\\\\\\\\\\\\\\n        window    = 60\\\\\\\\\\\\\\\\\\\\\\\\\\\\\\\\\\\\\\\\\\\\\\\\\\\\\\\\\\\\\\\\n        chksum    = 0x38ef\\\\\\\\\\\\\\\\\\\\\\\\\\\\\\\\\\\\\\\\\\\\\\\\\\\\\\\\\\\\\\\\n        urgptr    = 0\\\\\\\\\\\\\\\\\\\\\\\\\\\\\\\\\\\\\\\\\\\\\\\\\\\\\\\\\\\\\\\\n        options   = [(\\\\\\\\\\\\\\\\\\\\\\\\\\\\\\\\\\\\\\\\\\'NOP\\\\\\\\\\\\\\\\\\\\\\\\\\\\\\\\\\\\\\\\\\', None), (\\\\\\\\\\\\\\\\\\\\\\\\\\\\\\\\\\\\\\\\\\'NOP\\\\\\\\\\\\\\\\\\\\\\\\\\\\\\\\\\\\\\\\\\', None), (\\\\\\\\\\\\\\\\\\\\\\\\\\\\\\\\\\\\\\\\\\'Timestamp\\\\\\\\\\\\\\\\\\\\\\\\\\\\\\\\\\\\\\\\\\', (6971880, 3584400697))]\\\\\\\\\\\\\\\\\\\\\\\\\\\\\\\\\\\\\\\\\\\\\\\\\\\\\\\\\\\\\\\\n\\\\\\\\\\\\\\\\\\\\\\\\\\\\\\\\\\\\\\\\\\\\\\\\\\\\\\\\\\\\\\\\nPacket #3: proto: 6 10.203.6.1 ==> 172.18.0.2 sport: 40606  ==> 8888 \\\\\\\\\\\\\\\\\\\\\\\\\\\\\\\\\\\\\\\\\\\\\\\\\\\\\\\\\\\\\\\\n\\\\\\\\\\\\\\\\\\\\\"}, \\\\\\\\\\\\\\\\\\\\\"buffers\\\\\\\\\\\\\\\\\\\\\": [], \\\\\\\\\\\\\\\\\\\\\"channel\\\\\\\\\\\\\\\\\\\\\": \\\\\\\\\\\\\\\\\\\\\"iopub\\\\\\\\\\\\\\\\\\\\\"}\\\\\\\\\\'\\\\\\\\\\\\\\\\n\\\\\\\\\\\\\\\\nPacket #4: proto: 6 172.18.0.2 ==> 10.203.6.1 sport: 8888  ==> 40554 \\\\\\\\\\\\\\\\n###[ Ethernet ]### \\\\\\\\\\\\\\\\n  dst       = 02:42:ac:12:00:02\\\\\\\\\\\\\\\\n  src       = 02:42:38:f0:f2:77\\\\\\\\\\\\\\\\n  type      = 0x800\\\\\\\\\\\\\\\\n###[ IP ]### \\\\\\\\\\\\\\\\n     version   = 4\\\\\\\\\\\\\\\\n     ihl       = 5\\\\\\\\\\\\\\\\n     tos       = 0x0\\\\\\\\\\\\\\\\n     len       = 52\\\\\\\\\\\\\\\\n     id        = 22587\\\\\\\\\\\\\\\\n     flags     = DF\\\\\\\\\\\\\\\\n     frag      = 0\\\\\\\\\\\\\\\\n     ttl       = 63\\\\\\\\\\\\\\\\n     proto     = tcp\\\\\\\\\\\\\\\\n     chksum    = 0x26a9\\\\\\\\\\\\\\\\n     src       = 10.203.6.1\\\\\\\\\\\\\\\\n     dst       = 172.18.0.2\\\\\\\\\\\\\\\\n     \\\\\\\\\\\\\\\\\\\\\\\\\\\\\\\\options   \\\\\\\\\\\\\\\\\\\\\\\\\\\\\\\\\\\\\\\\\\\\\\\\n###[ TCP ]### \\\\\\\\\\\\\\\\n        sport     = 40554\\\\\\\\\\\\\\\\n        dport     = 8888\\\\\\\\\\\\\\\\n        seq       = 3085382087\\\\\\\\\\\\\\\\n        ack       = 903311515\\\\\\\\\\\\\\\\n        dataofs   = 8\\\\\\\\\\\\\\\\n        reserved  = 0\\\\\\\\\\\\\\\\n        flags     = A\\\\\\\\\\\\\\\\n        window    = 178\\\\\\\\\\\\\\\\n        chksum    = 0x91b0\\\\\\\\\\\\\\\\n        urgptr    = 0\\\\\\\\\\\\\\\\n        options   = [(\\\\\\\\\\'NOP\\\\\\\\\\', None), (\\\\\\\\\\'NOP\\\\\\\\\\', None), (\\\\\\\\\\'Timestamp\\\\\\\\\\', (6971932, 3584400906))]\\\\\\\\\\\\\\\\n\\\\\\\\\\\\\\\\nPacket #5: proto: 6 10.203.6.1 ==> 172.18.0.2 sport: 40554  ==> 8888 \\\\\\\\\\\\\\\\n\\\\\"}, \\\\\"buffers\\\\\": [], \\\\\"channel\\\\\": \\\\\"iopub\\\\\"}\\'\\\\n\\\\nPacket #6: proto: 6 172.18.0.2 ==> 10.203.6.1 sport: 8888  ==> 40554 \\\\n###[ Ethernet ]### \\\\n  dst       = 02:42:ac:12:00:02\\\\n  src       = 02:42:38:f0:f2:77\\\\n  type      = 0x800\\\\n###[ IP ]### \\\\n     version   = 4\\\\n     ihl       = 5\\\\n     tos       = 0x0\\\\n     len       = 52\\\\n     id        = 22588\\\\n     flags     = DF\\\\n     frag      = 0\\\\n     ttl       = 63\\\\n     proto     = tcp\\\\n     chksum    = 0x26a8\\\\n     src       = 10.203.6.1\\\\n     dst       = 172.18.0.2\\\\n     \\\\\\\\options   \\\\\\\\\\\\n###[ TCP ]### \\\\n        sport     = 40554\\\\n        dport     = 8888\\\\n        seq       = 3085382087\\\\n        ack       = 903318604\\\\n        dataofs   = 8\\\\n        reserved  = 0\\\\n        flags     = A\\\\n        window    = 178\\\\n        chksum    = 0x74f6\\\\n        urgptr    = 0\\\\n        options   = [(\\'NOP\\', None), (\\'NOP\\', None), (\\'Timestamp\\', (6971985, 3584401118))]\\\\n\\\\nPacket #7: proto: 6 10.203.6.1 ==> 172.18.0.2 sport: 40554  ==> 8888 \\\\n\"}, \"buffers\": [], \"channel\": \"iopub\"}'\n",
      "\n",
      "Packet #9: proto: 6 172.18.0.2 ==> 10.203.6.1 sport: 8888  ==> 40554 \n",
      "###[ Ethernet ]### \n",
      "  dst       = 02:42:ac:12:00:02\n",
      "  src       = 02:42:38:f0:f2:77\n",
      "  type      = 0x800\n",
      "###[ IP ]### \n",
      "     version   = 4\n",
      "     ihl       = 5\n",
      "     tos       = 0x0\n",
      "     len       = 52\n",
      "     id        = 22589\n",
      "     flags     = DF\n",
      "     frag      = 0\n",
      "     ttl       = 63\n",
      "     proto     = tcp\n",
      "     chksum    = 0x26a7\n",
      "     src       = 10.203.6.1\n",
      "     dst       = 172.18.0.2\n",
      "     \\options   \\\n",
      "###[ TCP ]### \n",
      "        sport     = 40554\n",
      "        dport     = 8888\n",
      "        seq       = 3085382087\n",
      "        ack       = 903325844\n",
      "        dataofs   = 8\n",
      "        reserved  = 0\n",
      "        flags     = A\n",
      "        window    = 178\n",
      "        chksum    = 0x57a6\n",
      "        urgptr    = 0\n",
      "        options   = [('NOP', None), ('NOP', None), ('Timestamp', (6972038, 3584401329))]\n",
      "\n",
      "Packet #10: proto: 6 10.203.6.1 ==> 172.18.0.2 sport: 40554  ==> 8888 \n",
      "10.203.6.1 <--> 172.18.0.2: 10\n"
     ]
    }
   ],
   "source": [
    "from collections import Counter\n",
    "from scapy.all import sniff\n",
    " \n",
    "packet_counts = Counter()\n",
    " \n",
    "#Packet #1: proto: TCP 192.168.16.2 ==> 10.255.255.135 sport: 45910 ==>  dport:80 \n",
    "    \n",
    "def custom_action(packet):\n",
    "    key = tuple(sorted([packet[0][1].src, packet[0][1].dst]))\n",
    "    packet_counts.update([key])\n",
    "    packet.show()\n",
    "    #return f\"Packet #{sum(packet_counts.values())}: {packet[0][1].src} ==> {packet[0][1].dst}\"\n",
    "    return f\"Packet #{sum(packet_counts.values())}: proto: {packet[0][1].proto} {packet[0][1].src} ==> {packet[0][1].dst} sport: {packet[0][1].sport}  ==> {packet[0][1].dport} \"\n",
    "    \n",
    "sniff(filter=\"ip\", prn=custom_action, count=10)\n",
    " \n",
    "print(\"\\n\".join(f\"{f'{key[0]} <--> {key[1]}'}: {count}\" for key, count in packet_counts.items()))"
   ]
  },
  {
   "cell_type": "code",
   "execution_count": null,
   "metadata": {},
   "outputs": [],
   "source": []
  }
 ],
 "metadata": {
  "kernelspec": {
   "display_name": "Python 3",
   "language": "python",
   "name": "python3"
  },
  "language_info": {
   "codemirror_mode": {
    "name": "ipython",
    "version": 3
   },
   "file_extension": ".py",
   "mimetype": "text/x-python",
   "name": "python",
   "nbconvert_exporter": "python",
   "pygments_lexer": "ipython3",
   "version": "3.7.2"
  },
  "varInspector": {
   "cols": {
    "lenName": 16,
    "lenType": 16,
    "lenVar": 40
   },
   "kernels_config": {
    "python": {
     "delete_cmd_postfix": "",
     "delete_cmd_prefix": "del ",
     "library": "var_list.py",
     "varRefreshCmd": "print(var_dic_list())"
    },
    "r": {
     "delete_cmd_postfix": ") ",
     "delete_cmd_prefix": "rm(",
     "library": "var_list.r",
     "varRefreshCmd": "cat(var_dic_list()) "
    }
   },
   "types_to_exclude": [
    "module",
    "function",
    "builtin_function_or_method",
    "instance",
    "_Feature"
   ],
   "window_display": false
  }
 },
 "nbformat": 4,
 "nbformat_minor": 2
}
