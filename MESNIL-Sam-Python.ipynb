{
 "cells": [
  {
   "cell_type": "markdown",
   "metadata": {},
   "source": [
    "# 6. Interrogation du DNS avec Python"
   ]
  },
  {
   "cell_type": "markdown",
   "metadata": {},
   "source": [
    "### 1. On utilise le module Python socket afin de résoudre www.iutbeziers.fr en adresse IP."
   ]
  },
  {
   "cell_type": "code",
   "execution_count": 1,
   "metadata": {},
   "outputs": [
    {
     "name": "stdout",
     "output_type": "stream",
     "text": [
      "194.199.227.80\n"
     ]
    }
   ],
   "source": [
    "import socket\n",
    "print(socket.gethostbyname('www.iutbeziers.fr'))"
   ]
  },
  {
   "cell_type": "markdown",
   "metadata": {},
   "source": [
    "### 2. On utilise le module dnspython afin de résoudre www.iutbeziers.fr en adresse IP et reciproquement."
   ]
  },
  {
   "cell_type": "code",
   "execution_count": 63,
   "metadata": {},
   "outputs": [
    {
     "name": "stdout",
     "output_type": "stream",
     "text": [
      "IP :  194.199.227.80\n",
      "URL:  www.iutbeziers.fr.\n"
     ]
    }
   ],
   "source": [
    "import dns.resolver\n",
    "import dns.reversename as rvrname\n",
    "\n",
    "rslv = dns.resolver.Resolver()\n",
    "\n",
    "ipqry = rslv.query('www.iutbeziers.fr')\n",
    "ip  = qry[0].address\n",
    "rvqry = rvrname.from_address(ip)\n",
    "rv = rslv.query(rvqry,'PTR')\n",
    "\n",
    "print(\"IP : \", ip )\n",
    "print(\"URL: \", rv[0])"
   ]
  },
  {
   "cell_type": "markdown",
   "metadata": {},
   "source": [
    "### 3. On donne la liste des NS, des MX du domaine iutbeziers.fr.\n",
    "\n",
    "#### NS."
   ]
  },
  {
   "cell_type": "code",
   "execution_count": 61,
   "metadata": {},
   "outputs": [
    {
     "name": "stdout",
     "output_type": "stream",
     "text": [
      "scribe.iutbeziers.fr.\n"
     ]
    }
   ],
   "source": [
    "import dns.resolver as rslv\n",
    "\n",
    "dnsQry = rslv.query('iutbeziers.fr', 'NS')\n",
    "\n",
    "for res in dnsQry:\n",
    "    print(res)"
   ]
  },
  {
   "cell_type": "markdown",
   "metadata": {},
   "source": [
    "#### MX"
   ]
  },
  {
   "cell_type": "code",
   "execution_count": 62,
   "metadata": {},
   "outputs": [
    {
     "name": "stdout",
     "output_type": "stream",
     "text": [
      "10 mail.iutbeziers.fr.\n"
     ]
    }
   ],
   "source": [
    "import dns.resolver as rslv\n",
    "\n",
    "dnsQry = rslv.query('iutbeziers.fr', 'MX')\n",
    "\n",
    "for res in dnsQry:\n",
    "    print(res)"
   ]
  },
  {
   "cell_type": "markdown",
   "metadata": {},
   "source": [
    "### 4. On retrouve le resolver de votre container."
   ]
  },
  {
   "cell_type": "code",
   "execution_count": null,
   "metadata": {},
   "outputs": [],
   "source": [
    "import dns.resolver\n",
    "\n",
    "rsvl = dns.resolver.Resolver()\n",
    "    \n",
    "print(rsvl.nameservers)"
   ]
  },
  {
   "cell_type": "markdown",
   "metadata": {},
   "source": [
    "### 5. Utilisez le module dns2python afin de vérifier que les zones renvoyées en axfr par les DNS du domaine \"zonetransfert.me.\" sont bien identiques/"
   ]
  },
  {
   "cell_type": "markdown",
   "metadata": {},
   "source": [
    "# 7. Scapy un package Python pour tester votre sécurité"
   ]
  },
  {
   "cell_type": "markdown",
   "metadata": {},
   "source": [
    "###  EXo1 SCAN de port: Script permettant de scanner les ports de 1 à 1024 des machines de la salle"
   ]
  },
  {
   "cell_type": "code",
   "execution_count": 15,
   "metadata": {},
   "outputs": [
    {
     "name": "stdout",
     "output_type": "stream",
     "text": [
      "Scan en cours...\n",
      "Host 10.203.6.1\n",
      "Port  22 isOpen\n",
      "Port  111 isOpen\n",
      "Port  902 isOpen\n",
      "-----------------------------------\n",
      "Scan terminé.\n"
     ]
    }
   ],
   "source": [
    "from scapy.all import *\n",
    "import logging\n",
    "logging.getLogger(\"scapy.runtime\").setLevel(logging.ERROR)\n",
    "\n",
    "src_port = RandShort()\n",
    "\n",
    "print(\"Scan en cours...\")\n",
    "\n",
    "for i in range(6, 7):\n",
    "    dst_ip = \"10.203.%d.1\" % (i)\n",
    "    print(\"Host\", dst_ip)\n",
    "    \n",
    "    for dst_port in range(1, 1025):\n",
    "        tcp_connect_scan_resp = sr1(IP(dst=dst_ip)/TCP(sport=src_port,dport=dst_port,flags=\"S\"),timeout=15, verbose=0 )\n",
    "\n",
    "        if(str(type(tcp_connect_scan_resp))==\"<class 'NoneType'>\"):\n",
    "            print(\"Port \", dst_port, \"NoneType\")\n",
    "        elif(tcp_connect_scan_resp.haslayer(TCP)):\n",
    "            if(tcp_connect_scan_resp.getlayer(TCP).flags == 0x12):\n",
    "                send_rst = sr(IP(dst=dst_ip)/TCP(sport=src_port,dport=dst_port,flags=\"AR\"),timeout=10, verbose=0 )\n",
    "                print(\"Port \", dst_port, \"isOpen\")\n",
    "            #elif (tcp_connect_scan_resp.getlayer(TCP).flags == 0x14):\n",
    "             #   print( dst_ip, \"P: \", dst_port, \"isClosed\")\n",
    "                \n",
    "    print(\"-----------------------------------\")\n",
    "           \n",
    "print(\"Scan terminé.\")\n"
   ]
  },
  {
   "cell_type": "markdown",
   "metadata": {},
   "source": [
    "^^^ Exemple avec l'@IP : 10.203.6.1 ^^^"
   ]
  },
  {
   "cell_type": "markdown",
   "metadata": {},
   "source": [
    "### Exo2 Requête SNMP: Script permettant d'afficher et de recueillir desinformations sur les kernels Linux des serveurs de l'IUT ( Vérifiez que le port 161 udp est ouvert et passez votre requête )"
   ]
  },
  {
   "cell_type": "code",
   "execution_count": 14,
   "metadata": {},
   "outputs": [
    {
     "name": "stdout",
     "output_type": "stream",
     "text": [
      "Begin emission:\n",
      "Finished sending 1 packets.\n",
      "\n",
      "Received 6 packets, got 0 answers, remaining 1 packets\n",
      "Port  161 NoneType\n"
     ]
    }
   ],
   "source": [
    "from scapy.all import *\n",
    "import logging\n",
    "logging.getLogger(\"scapy.runtime\").setLevel(logging.ERROR)\n",
    "\n",
    "src_port = RandShort()\n",
    "dst_port = 161\n",
    "dst_ip = \"10.255.255.135\"\n",
    "\n",
    "#p = IP(dst=\"10.255.255.135\")/UDP(sport=161)/SNMP(community=\"publicbeziers\",PDU=SNMPget(varbindlist=[SNMPvarbind(oid=ASN1_OID(\"1.3.6.1.2.1.1.1.0\"))]))\n",
    "#print(sr1(p))\n",
    "\n",
    "udp_scan_resp = sr1(IP(dst=dst_ip)/UDP(dport=dst_port),timeout=10 )\n",
    "    \n",
    "if (str(type(udp_scan_resp))==\"<class 'NoneType'>\"):\n",
    "    print(\"Port \", dst_port, \"NoneType\")\n",
    "elif (udp_scan_resp.haslayer(UDP)):\n",
    "    print(\"Port \", dst_port, \"isOpen\")\n",
    "elif(udp_scan_resp.haslayer(ICMP)):\n",
    "    if(int(udp_scan_resp.getlayer(ICMP).type)==3):\n",
    "        print(\"Port \", dst_port, \"Closed\")\n",
    "    elif(int(udp_scan_resp.getlayer(ICMP).type)==3 and int(udp_scan_resp.getlayer(ICMP).code) in [1,2,9,10,13]):\n",
    "        print(\"Port \", dst_port, \"Filtered\")\n"
   ]
  },
  {
   "cell_type": "markdown",
   "metadata": {},
   "source": [
    "### Exo 3 Modifiez ce script qui sniffe le réseau avec une fonction de callback qui affiche les sources/dest IP afin qu'il affiche aussi les ports sources et destination ainsi que le type de paquets"
   ]
  },
  {
   "cell_type": "code",
   "execution_count": 2,
   "metadata": {},
   "outputs": [
    {
     "name": "stdout",
     "output_type": "stream",
     "text": [
      "Packet #1: proto: 6 192.168.122.1 ==> 172.18.0.2 sport: 45022  ==> 8888 \n",
      "Packet #2: proto: 6 172.18.0.2 ==> 192.168.122.1 sport: 8888  ==> 45022 \n",
      "Packet #3: proto: 6 192.168.122.1 ==> 172.18.0.2 sport: 45022  ==> 8888 \n",
      "Packet #4: proto: 6 172.18.0.2 ==> 192.168.122.1 sport: 8888  ==> 45038 \n",
      "Packet #5: proto: 6 192.168.122.1 ==> 172.18.0.2 sport: 45038  ==> 8888 \n",
      "Packet #6: proto: 6 172.18.0.2 ==> 192.168.122.1 sport: 8888  ==> 45038 \n",
      "Packet #7: proto: 6 192.168.122.1 ==> 172.18.0.2 sport: 45038  ==> 8888 \n",
      "Packet #8: proto: 6 192.168.122.1 ==> 172.18.0.2 sport: 45024  ==> 8888 \n",
      "Packet #9: proto: 6 172.18.0.2 ==> 192.168.122.1 sport: 8888  ==> 45024 \n",
      "Packet #10: proto: 6 192.168.122.1 ==> 172.18.0.2 sport: 45026  ==> 8888 \n",
      "172.18.0.2 <--> 192.168.122.1: 10\n"
     ]
    }
   ],
   "source": [
    "from collections import Counter\n",
    "from scapy.all import sniff\n",
    " \n",
    "packet_counts = Counter()\n",
    " \n",
    "#Packet #1: proto: TCP 192.168.16.2 ==> 10.255.255.135 sport: 45910 ==>  dport:80 \n",
    "    \n",
    "def custom_action(packet):\n",
    "    key = tuple(sorted([packet[0][1].src, packet[0][1].dst]))\n",
    "    packet_counts.update([key])\n",
    "    #packet.show()\n",
    "    #return f\"Packet #{sum(packet_counts.values())}: {packet[0][1].src} ==> {packet[0][1].dst}\"\n",
    "    return f\"Packet #{sum(packet_counts.values())}: proto: {packet[0][1].proto} {packet[0][1].src} ==> {packet[0][1].dst} sport: {packet[0][1].sport}  ==> {packet[0][1].dport} \"\n",
    "    \n",
    "sniff(filter=\"ip\", prn=custom_action, count=10)\n",
    " \n",
    "print(\"\\n\".join(f\"{f'{key[0]} <--> {key[1]}'}: {count}\" for key, count in packet_counts.items()))"
   ]
  },
  {
   "cell_type": "markdown",
   "metadata": {},
   "source": [
    "# 8.2 Utilisation du package telnetlib pour se connecter au routeur Cisco"
   ]
  },
  {
   "cell_type": "markdown",
   "metadata": {},
   "source": [
    "#### 1. Tout d’abord on configure l'adressage IP et l’accès telnet sur notre routeur Cisco :"
   ]
  },
  {
   "attachments": {
    "CONF-ROUT.png": {
     "image/png": "[encoded data removed]"
    }
   },
   "cell_type": "markdown",
   "metadata": {},
   "source": [
    "![CONF-ROUT.png](attachment:CONF-ROUT.png)"
   ]
  },
  {
   "cell_type": "markdown",
   "metadata": {},
   "source": [
    "#### 2. On utilise le code suivant pour nous connecter en telnet sur le container depuis notre container python :"
   ]
  },
  {
   "cell_type": "code",
   "execution_count": 10,
   "metadata": {},
   "outputs": [
    {
     "name": "stdout",
     "output_type": "stream",
     "text": [
      "Telnet(192.168.122.254,23): recv b'\\xff\\xfb\\x01\\xff\\xfb\\x03\\xff\\xfd\\x18\\xff\\xfd\\x1f\\r\\n\\r\\nUser Access Verification\\r\\n\\r\\nPasswo'\n",
      "Telnet(192.168.122.254,23): IAC WILL 1\n",
      "Telnet(192.168.122.254,23): IAC WILL 3\n",
      "Telnet(192.168.122.254,23): IAC DO 24\n",
      "Telnet(192.168.122.254,23): IAC DO 31\n",
      "Telnet(192.168.122.254,23): recv b'rd: '\n",
      "Telnet(192.168.122.254,23): send b'cisco\\n'\n",
      "Telnet(192.168.122.254,23): send b'enable\\n'\n",
      "Telnet(192.168.122.254,23): send b'cisco\\n'\n",
      "Telnet(192.168.122.254,23): send b'term len 0\\n'\n",
      "Telnet(192.168.122.254,23): send b'sh ver\\n'\n",
      "Telnet(192.168.122.254,23): send b'\\n'\n",
      "Telnet(192.168.122.254,23): send b'\\n'\n",
      "Telnet(192.168.122.254,23): send b'exit\\n'\n",
      "Telnet(192.168.122.254,23): recv b'\\xff\\xfc\\x01\\xff\\xfc\\x03\\xff\\xfe\\x18\\xff\\xfe\\x1f\\r\\nR1>enable\\r\\nPassword: \\r\\nR1#term len 0'\n",
      "Telnet(192.168.122.254,23): IAC WONT 1\n",
      "Telnet(192.168.122.254,23): IAC WONT 3\n",
      "Telnet(192.168.122.254,23): IAC DONT 24\n",
      "Telnet(192.168.122.254,23): IAC DONT 31\n",
      "Telnet(192.168.122.254,23): recv b'\\r\\nR1#sh ver\\r\\nCisco IOS Software, 3700 Software (C3'\n",
      "Telnet(192.168.122.254,23): recv b'725-ADVENTERPRISEK9-M), Version 12.4(25d), RELEASE'\n",
      "Telnet(192.168.122.254,23): recv b' SOFTWARE (fc1)\\r\\nTechnical Support: http://www.cis'\n",
      "Telnet(192.168.122.254,23): recv b'co.com/techsupport\\r\\nCopyright (c) 1986-2010 by Cis'\n",
      "Telnet(192.168.122.254,23): recv b'co Systems, Inc.\\r\\nCompiled Wed 18-Aug-10 07:55 by '\n",
      "Telnet(192.168.122.254,23): recv b'prod_rel_team\\r\\n\\r\\nROM: ROMMON Emulation Microcode\\r\\n'\n",
      "Telnet(192.168.122.254,23): recv b'ROM: 3700 Software (C3725-ADVENTERPRISEK9-M), Vers'\n",
      "Telnet(192.168.122.254,23): recv b'ion 12.4(25d), RELEASE SOFTWARE (fc1)\\r\\n\\r\\nR1 uptime'\n",
      "Telnet(192.168.122.254,23): recv b' is 4 minutes\\r\\nSystem returned to ROM by unknown r'\n",
      "Telnet(192.168.122.254,23): recv b'eload cause - suspect boot_data[BOOT_COUNT] 0x0, B'\n",
      "Telnet(192.168.122.254,23): recv b'OOT_COUNT 0, BOOTDATA 19\\r\\nSystem image file is \"tf'\n",
      "Telnet(192.168.122.254,23): recv b'tp://255.255.255.255/unknown\"\\r\\n\\r\\n\\r\\nThis product co'\n",
      "Telnet(192.168.122.254,23): recv b'ntains cryptographic features and is subject to Un'\n",
      "Telnet(192.168.122.254,23): recv b'ited\\r\\nStates and local country laws governing impo'\n",
      "Telnet(192.168.122.254,23): recv b'rt, export, transfer and\\r\\nuse. Delivery of Cisco c'\n",
      "Telnet(192.168.122.254,23): recv b'ryptographic products does not imply\\r\\nthird-party '\n",
      "Telnet(192.168.122.254,23): recv b'authority to import, export, distribute or use enc'\n",
      "Telnet(192.168.122.254,23): recv b'ryption.\\r\\nImporters, exporters, distributors and u'\n",
      "Telnet(192.168.122.254,23): recv b'sers are responsible for\\r\\ncompliance with U.S. and'\n",
      "Telnet(192.168.122.254,23): recv b' local country laws. By using this product you\\r\\nag'\n",
      "Telnet(192.168.122.254,23): recv b'ree to comply with applicable laws and regulations'\n",
      "Telnet(192.168.122.254,23): recv b'. If you are unable\\r\\nto comply with U.S. and local'\n",
      "Telnet(192.168.122.254,23): recv b' laws, return this product immediately.\\r\\n\\r\\nA summa'\n",
      "Telnet(192.168.122.254,23): recv b'ry of U.S. laws governing Cisco cryptographic prod'\n",
      "Telnet(192.168.122.254,23): recv b'ucts may be found at:\\r\\nhttp://www.cisco.com/wwl/ex'\n",
      "Telnet(192.168.122.254,23): recv b'port/crypto/tool/stqrg.html\\r\\n\\r\\nIf you require furt'\n",
      "Telnet(192.168.122.254,23): recv b'her assistance please contact us by sending email '\n",
      "Telnet(192.168.122.254,23): recv b'to\\r\\nexport@cisco.com.\\r\\n\\r\\nCisco 3725 (R7000) proces'\n",
      "Telnet(192.168.122.254,23): recv b'sor (revision 0.1) with 124928K/6144K bytes of mem'\n",
      "Telnet(192.168.122.254,23): recv b'ory.\\r\\nProcessor board ID FTX0945W0MY\\r\\nR7000 CPU at'\n",
      "Telnet(192.168.122.254,23): recv b' 240MHz, Implementation 39, Rev 2.1, 256KB L2, 512'\n",
      "Telnet(192.168.122.254,23): recv b'KB L3 Cache\\r\\n2 FastEthernet interfaces\\r\\nDRAM confi'\n",
      "Telnet(192.168.122.254,23): recv b'guration is 64 bits wide with parity enabled.\\r\\n55K'\n",
      "Telnet(192.168.122.254,23): recv b' bytes of NVRAM.\\r\\n\\r\\nConfiguration register is 0x21'\n",
      "Telnet(192.168.122.254,23): recv b'02\\r\\n\\r\\nR1#\\r\\nR1#\\r\\nR1#e'\n",
      "Telnet(192.168.122.254,23): recv b'x'\n",
      "Telnet(192.168.122.254,23): recv b'i'\n",
      "Telnet(192.168.122.254,23): recv b't'\n",
      "Telnet(192.168.122.254,23): recv b'\\r\\n'\n",
      "Telnet(192.168.122.254,23): recv b''\n",
      "\n",
      "R1>enable\n",
      "Password: \n",
      "R1#term len 0\n",
      "R1#sh ver\n",
      "Cisco IOS Software, 3700 Software (C3725-ADVENTERPRISEK9-M), Version 12.4(25d), RELEASE SOFTWARE (fc1)\n",
      "Technical Support: http://www.cisco.com/techsupport\n",
      "Copyright (c) 1986-2010 by Cisco Systems, Inc.\n",
      "Compiled Wed 18-Aug-10 07:55 by prod_rel_team\n",
      "\n",
      "ROM: ROMMON Emulation Microcode\n",
      "ROM: 3700 Software (C3725-ADVENTERPRISEK9-M), Version 12.4(25d), RELEASE SOFTWARE (fc1)\n",
      "\n",
      "R1 uptime is 4 minutes\n",
      "System returned to ROM by unknown reload cause - suspect boot_data[BOOT_COUNT] 0x0, BOOT_COUNT 0, BOOTDATA 19\n",
      "System image file is \"tftp://255.255.255.255/unknown\"\n",
      "\n",
      "\n",
      "This product contains cryptographic features and is subject to United\n",
      "States and local country laws governing import, export, transfer and\n",
      "use. Delivery of Cisco cryptographic products does not imply\n",
      "third-party authority to import, export, distribute or use encryption.\n",
      "Importers, exporters, distributors and users are responsible for\n",
      "compliance with U.S. and local country laws. By using this product you\n",
      "agree to comply with applicable laws and regulations. If you are unable\n",
      "to comply with U.S. and local laws, return this product immediately.\n",
      "\n",
      "A summary of U.S. laws governing Cisco cryptographic products may be found at:\n",
      "http://www.cisco.com/wwl/export/crypto/tool/stqrg.html\n",
      "\n",
      "If you require further assistance please contact us by sending email to\n",
      "export@cisco.com.\n",
      "\n",
      "Cisco 3725 (R7000) processor (revision 0.1) with 124928K/6144K bytes of memory.\n",
      "Processor board ID FTX0945W0MY\n",
      "R7000 CPU at 240MHz, Implementation 39, Rev 2.1, 256KB L2, 512KB L3 Cache\n",
      "2 FastEthernet interfaces\n",
      "DRAM configuration is 64 bits wide with parity enabled.\n",
      "55K bytes of NVRAM.\n",
      "\n",
      "Configuration register is 0x2102\n",
      "\n",
      "R1#\n",
      "R1#\n",
      "R1#exit\n",
      "\n"
     ]
    }
   ],
   "source": [
    "import sys\n",
    "import telnetlib\n",
    "import time\n",
    "\n",
    "HOST = \"192.168.122.254\"\n",
    "password = \"cisco\"\n",
    "command = \"sh ver\"\n",
    "term = \"term len 0\"\n",
    "tn = telnetlib.Telnet(HOST)\n",
    "cmd1 = \"enable\"\n",
    "\n",
    "tn.set_debuglevel(1)\n",
    "time.sleep(2)\n",
    "\n",
    "tn.read_until(b\"Password: \")\n",
    "tn.write(password.encode('ascii') + b\"\\n\")\n",
    "\n",
    "time.sleep(2)\n",
    "\n",
    "tn.write(cmd1.encode('ascii') + b\"\\n\")\n",
    "\n",
    "time.sleep(2)\n",
    "\n",
    "tn.write(password.encode('ascii') + b\"\\n\")\n",
    "\n",
    "time.sleep(2)\n",
    "\n",
    "tn.write(term.encode('ascii') + b\"\\n\")\n",
    "tn.write(command.encode('ascii') + b\"\\n\")\n",
    "\n",
    "time.sleep(2)\n",
    "\n",
    "tn.write(b\"\\n\")\n",
    "\n",
    "time.sleep(2)\n",
    "\n",
    "tn.write(b\"\\n\")\n",
    "time.sleep(2)\n",
    "tn.write(b\"exit\\n\")\n",
    "\n",
    "lastpost = tn.read_all().decode('ascii')\n",
    "\n",
    "print(lastpost)\n",
    "op=open (\"output.txt\", \"a\").write(lastpost)\n",
    "\n",
    "tn.close()"
   ]
  },
  {
   "cell_type": "markdown",
   "metadata": {},
   "source": [
    "#### 3. On compléte le programme précédent afin de mettre en place un accès SSH sur notre routeur Cisco :"
   ]
  },
  {
   "cell_type": "code",
   "execution_count": 11,
   "metadata": {},
   "outputs": [
    {
     "name": "stdout",
     "output_type": "stream",
     "text": [
      "Telnet(192.168.122.254,23): recv b'\\xff\\xfb\\x01\\xff\\xfb\\x03\\xff\\xfd\\x18\\xff\\xfd\\x1f\\r\\n\\r\\nUser Access Verification\\r\\n\\r\\nPasswo'\n",
      "Telnet(192.168.122.254,23): IAC WILL 1\n",
      "Telnet(192.168.122.254,23): IAC WILL 3\n",
      "Telnet(192.168.122.254,23): IAC DO 24\n",
      "Telnet(192.168.122.254,23): IAC DO 31\n",
      "Telnet(192.168.122.254,23): recv b'rd: '\n",
      "Telnet(192.168.122.254,23): send b'cisco\\n'\n",
      "Telnet(192.168.122.254,23): send b'enable\\n'\n",
      "Telnet(192.168.122.254,23): send b'cisco\\n'\n",
      "Telnet(192.168.122.254,23): send b'term len 0\\n'\n",
      "Telnet(192.168.122.254,23): send b'conf t\\n'\n",
      "Telnet(192.168.122.254,23): send b'hostname R-KURO\\n'\n",
      "Telnet(192.168.122.254,23): send b'ip domain-name mesnil.fr\\n'\n",
      "Telnet(192.168.122.254,23): send b'crypto key generate rsa general-keys modulus 2048\\n'\n",
      "Telnet(192.168.122.254,23): send b'aaa new-model\\n'\n",
      "Telnet(192.168.122.254,23): send b'username kuro secret rootroot\\n'\n",
      "Telnet(192.168.122.254,23): send b'aaa authentication enable default line\\n'\n",
      "Telnet(192.168.122.254,23): send b'end\\n'\n",
      "Telnet(192.168.122.254,23): send b'wr mem\\n'\n",
      "Telnet(192.168.122.254,23): send b'\\n'\n",
      "Telnet(192.168.122.254,23): send b'\\n'\n",
      "Telnet(192.168.122.254,23): send b'exit\\n'\n",
      "Telnet(192.168.122.254,23): recv b'\\xff\\xfc\\x01\\xff\\xfc\\x03\\xff\\xfe\\x18\\xff\\xfe\\x1f\\r\\nR1>enable\\r\\nPassword: \\r\\nR1#term len 0'\n",
      "Telnet(192.168.122.254,23): IAC WONT 1\n",
      "Telnet(192.168.122.254,23): IAC WONT 3\n",
      "Telnet(192.168.122.254,23): IAC DONT 24\n",
      "Telnet(192.168.122.254,23): IAC DONT 31\n",
      "Telnet(192.168.122.254,23): recv b'\\r\\nR1#conf t\\r\\nEnter configuration commands, one per'\n",
      "Telnet(192.168.122.254,23): recv b' line.  End with CNTL/Z.\\r\\nR1(config)#hostname R-KU'\n",
      "Telnet(192.168.122.254,23): recv b'RO\\r\\nR-KURO(config)#ip domain-name mesnil.fr\\r\\nR-KUR'\n",
      "Telnet(192.168.122.254,23): recv b'O(config)#crypto key generate rsa general-keys mod'\n",
      "Telnet(192.168.122.254,23): recv b'ulus 2048\\r\\nThe name for the keys will be: R-KURO.m'\n",
      "Telnet(192.168.122.254,23): recv b'esnil.fr\\r\\n\\r\\n% The key modulus size is 2048 bits\\r\\n%'\n",
      "Telnet(192.168.122.254,23): recv b' Generating 2048 bit RSA keys, keys will be non-ex'\n",
      "Telnet(192.168.122.254,23): recv b'portable...'\n",
      "Telnet(192.168.122.254,23): recv b'[OK]\\r\\n\\r\\nR-KURO(config)#'\n",
      "Telnet(192.168.122.254,23): recv b'a'\n",
      "Telnet(192.168.122.254,23): recv b'a'\n",
      "Telnet(192.168.122.254,23): recv b'a'\n",
      "Telnet(192.168.122.254,23): recv b' '\n",
      "Telnet(192.168.122.254,23): recv b'n'\n",
      "Telnet(192.168.122.254,23): recv b'e'\n",
      "Telnet(192.168.122.254,23): recv b'w'\n",
      "Telnet(192.168.122.254,23): recv b'-'\n",
      "Telnet(192.168.122.254,23): recv b'm'\n",
      "Telnet(192.168.122.254,23): recv b'o'\n",
      "Telnet(192.168.122.254,23): recv b'd'\n",
      "Telnet(192.168.122.254,23): recv b'e'\n",
      "Telnet(192.168.122.254,23): recv b'l'\n",
      "Telnet(192.168.122.254,23): recv b'\\r\\n'\n",
      "Telnet(192.168.122.254,23): recv b'R-KURO(config)#'\n",
      "Telnet(192.168.122.254,23): recv b'u'\n",
      "Telnet(192.168.122.254,23): recv b's'\n",
      "Telnet(192.168.122.254,23): recv b'e'\n",
      "Telnet(192.168.122.254,23): recv b'r'\n",
      "Telnet(192.168.122.254,23): recv b'n'\n",
      "Telnet(192.168.122.254,23): recv b'a'\n",
      "Telnet(192.168.122.254,23): recv b'm'\n",
      "Telnet(192.168.122.254,23): recv b'e'\n",
      "Telnet(192.168.122.254,23): recv b' '\n",
      "Telnet(192.168.122.254,23): recv b'k'\n",
      "Telnet(192.168.122.254,23): recv b'u'\n",
      "Telnet(192.168.122.254,23): recv b'r'\n",
      "Telnet(192.168.122.254,23): recv b'o'\n",
      "Telnet(192.168.122.254,23): recv b' '\n",
      "Telnet(192.168.122.254,23): recv b's'\n",
      "Telnet(192.168.122.254,23): recv b'e'\n",
      "Telnet(192.168.122.254,23): recv b'c'\n",
      "Telnet(192.168.122.254,23): recv b'r'\n",
      "Telnet(192.168.122.254,23): recv b'e'\n",
      "Telnet(192.168.122.254,23): recv b't'\n",
      "Telnet(192.168.122.254,23): recv b' '\n",
      "Telnet(192.168.122.254,23): recv b'r'\n",
      "Telnet(192.168.122.254,23): recv b'o'\n",
      "Telnet(192.168.122.254,23): recv b'o'\n",
      "Telnet(192.168.122.254,23): recv b't'\n",
      "Telnet(192.168.122.254,23): recv b'r'\n",
      "Telnet(192.168.122.254,23): recv b'o'\n",
      "Telnet(192.168.122.254,23): recv b'o'\n",
      "Telnet(192.168.122.254,23): recv b't'\n",
      "Telnet(192.168.122.254,23): recv b'\\r\\n'\n",
      "Telnet(192.168.122.254,23): recv b'R-KURO(config)#'\n",
      "Telnet(192.168.122.254,23): recv b'a'\n",
      "Telnet(192.168.122.254,23): recv b'a'\n",
      "Telnet(192.168.122.254,23): recv b'a'\n",
      "Telnet(192.168.122.254,23): recv b' '\n",
      "Telnet(192.168.122.254,23): recv b'a'\n",
      "Telnet(192.168.122.254,23): recv b'u'\n",
      "Telnet(192.168.122.254,23): recv b't'\n",
      "Telnet(192.168.122.254,23): recv b'h'\n",
      "Telnet(192.168.122.254,23): recv b'e'\n",
      "Telnet(192.168.122.254,23): recv b'n'\n",
      "Telnet(192.168.122.254,23): recv b't'\n",
      "Telnet(192.168.122.254,23): recv b'i'\n",
      "Telnet(192.168.122.254,23): recv b'c'\n",
      "Telnet(192.168.122.254,23): recv b'a'\n",
      "Telnet(192.168.122.254,23): recv b't'\n",
      "Telnet(192.168.122.254,23): recv b'i'\n",
      "Telnet(192.168.122.254,23): recv b'o'\n",
      "Telnet(192.168.122.254,23): recv b'n'\n",
      "Telnet(192.168.122.254,23): recv b' '\n",
      "Telnet(192.168.122.254,23): recv b'e'\n",
      "Telnet(192.168.122.254,23): recv b'n'\n",
      "Telnet(192.168.122.254,23): recv b'a'\n",
      "Telnet(192.168.122.254,23): recv b'b'\n",
      "Telnet(192.168.122.254,23): recv b'l'\n",
      "Telnet(192.168.122.254,23): recv b'e'\n",
      "Telnet(192.168.122.254,23): recv b' '\n",
      "Telnet(192.168.122.254,23): recv b'd'\n",
      "Telnet(192.168.122.254,23): recv b'e'\n",
      "Telnet(192.168.122.254,23): recv b'f'\n",
      "Telnet(192.168.122.254,23): recv b'a'\n",
      "Telnet(192.168.122.254,23): recv b'u'\n",
      "Telnet(192.168.122.254,23): recv b'l'\n",
      "Telnet(192.168.122.254,23): recv b't'\n",
      "Telnet(192.168.122.254,23): recv b' '\n",
      "Telnet(192.168.122.254,23): recv b'l'\n",
      "Telnet(192.168.122.254,23): recv b'i'\n",
      "Telnet(192.168.122.254,23): recv b'n'\n",
      "Telnet(192.168.122.254,23): recv b'e'\n",
      "Telnet(192.168.122.254,23): recv b'\\r\\n'\n",
      "Telnet(192.168.122.254,23): recv b'R-KURO(config)#'\n",
      "Telnet(192.168.122.254,23): recv b'e'\n",
      "Telnet(192.168.122.254,23): recv b'n'\n",
      "Telnet(192.168.122.254,23): recv b'd'\n",
      "Telnet(192.168.122.254,23): recv b'\\r\\n'\n",
      "Telnet(192.168.122.254,23): recv b'R-KURO#'\n",
      "Telnet(192.168.122.254,23): recv b'w'\n",
      "Telnet(192.168.122.254,23): recv b'r'\n",
      "Telnet(192.168.122.254,23): recv b' '\n",
      "Telnet(192.168.122.254,23): recv b'm'\n",
      "Telnet(192.168.122.254,23): recv b'e'\n",
      "Telnet(192.168.122.254,23): recv b'm'\n",
      "Telnet(192.168.122.254,23): recv b'\\r\\n'\n",
      "Telnet(192.168.122.254,23): recv b'Building configuration...\\r\\n'\n",
      "Telnet(192.168.122.254,23): recv b'[OK]\\r\\nR-KURO#'\n",
      "Telnet(192.168.122.254,23): recv b'\\r\\n'\n",
      "Telnet(192.168.122.254,23): recv b'R-KURO#'\n",
      "Telnet(192.168.122.254,23): recv b'\\r\\n'\n",
      "Telnet(192.168.122.254,23): recv b'R-KURO#'\n",
      "Telnet(192.168.122.254,23): recv b'e'\n",
      "Telnet(192.168.122.254,23): recv b'x'\n",
      "Telnet(192.168.122.254,23): recv b'i'\n",
      "Telnet(192.168.122.254,23): recv b't'\n",
      "Telnet(192.168.122.254,23): recv b'\\r\\n'\n",
      "Telnet(192.168.122.254,23): recv b''\n",
      "\n",
      "R1>enable\n",
      "Password: \n",
      "R1#term len 0\n",
      "R1#conf t\n",
      "Enter configuration commands, one per line.  End with CNTL/Z.\n",
      "R1(config)#hostname R-KURO\n",
      "R-KURO(config)#ip domain-name mesnil.fr\n",
      "R-KURO(config)#crypto key generate rsa general-keys modulus 2048\n",
      "The name for the keys will be: R-KURO.mesnil.fr\n",
      "\n",
      "% The key modulus size is 2048 bits\n",
      "% Generating 2048 bit RSA keys, keys will be non-exportable...[OK]\n",
      "\n",
      "R-KURO(config)#aaa new-model\n",
      "R-KURO(config)#username kuro secret rootroot\n",
      "R-KURO(config)#aaa authentication enable default line\n",
      "R-KURO(config)#end\n",
      "R-KURO#wr mem\n",
      "Building configuration...\n",
      "[OK]\n",
      "R-KURO#\n",
      "R-KURO#\n",
      "R-KURO#exit\n",
      "\n"
     ]
    }
   ],
   "source": [
    "import sys\n",
    "import telnetlib\n",
    "import time\n",
    "\n",
    "HOST = \"192.168.122.254\"\n",
    "enbl = \"enable\"\n",
    "password = \"cisco\"\n",
    "term = \"term len 0\"\n",
    "tn = telnetlib.Telnet(HOST)\n",
    "\n",
    "coft = \"conf t\"\n",
    "hstn = \"hostname R-KURO\"\n",
    "ipdm = \"ip domain-name mesnil.fr\"\n",
    "cryp = \"crypto key generate rsa general-keys modulus 2048\"\n",
    "anew = \"aaa new-model\"\n",
    "urss = \"username kuro secret rootroot\"\n",
    "aath = \"aaa authentication enable default line\"\n",
    "endc = \"end\"\n",
    "wrmm = \"wr mem\" \n",
    "\n",
    "tn.set_debuglevel(1)\n",
    "time.sleep(2)\n",
    "\n",
    "tn.read_until(b\"Password: \")\n",
    "tn.write(password.encode('ascii') + b\"\\n\")\n",
    "\n",
    "time.sleep(2)\n",
    "\n",
    "tn.write(enbl.encode('ascii') + b\"\\n\")\n",
    "\n",
    "time.sleep(2)\n",
    "\n",
    "tn.write(password.encode('ascii') + b\"\\n\")\n",
    "\n",
    "time.sleep(2)\n",
    "\n",
    "tn.write(term.encode('ascii') + b\"\\n\")\n",
    "tn.write(coft.encode('ascii') + b\"\\n\")\n",
    "tn.write(hstn.encode('ascii') + b\"\\n\")\n",
    "tn.write(ipdm.encode('ascii') + b\"\\n\")\n",
    "tn.write(cryp.encode('ascii') + b\"\\n\")\n",
    "tn.write(anew.encode('ascii') + b\"\\n\")\n",
    "tn.write(urss.encode('ascii') + b\"\\n\")\n",
    "tn.write(aath.encode('ascii') + b\"\\n\")\n",
    "tn.write(endc.encode('ascii') + b\"\\n\")\n",
    "tn.write(wrmm.encode('ascii') + b\"\\n\")\n",
    "\n",
    "time.sleep(2)\n",
    "\n",
    "tn.write(b\"\\n\")\n",
    "time.sleep(2)\n",
    "tn.write(b\"\\n\")\n",
    "time.sleep(2)\n",
    "tn.write(b\"exit\\n\")\n",
    "\n",
    "lastpost = tn.read_all().decode('ascii')\n",
    "\n",
    "print(lastpost)\n",
    "op=open (\"output.txt\", \"a\").write(lastpost)\n",
    "\n",
    "tn.close()"
   ]
  },
  {
   "cell_type": "markdown",
   "metadata": {},
   "source": [
    "#### 4. On vérifie que depuis le container Python3 on accède bien au routeur en SSH en s'authentifiant :"
   ]
  },
  {
   "cell_type": "markdown",
   "metadata": {},
   "source": [
    "student@b2d7c3f7d519:~/python$ ssh -oKexAlgorithms=+diffie-hellman-group1-sha1 -c aes128-cbc kuro@192.168.122.254\n",
    "The authenticity of host '192.168.122.254 (192.168.122.254)' can't be established.\n",
    "RSA key fingerprint is SHA256:u6YA9q2kAHwNE9i+OLWJuNpa5szKXTC/4EIde8HNK+s.\n",
    "Are you sure you want to continue connecting (yes/no)? yes\n",
    "Warning: Permanently added '192.168.122.254' (RSA) to the list of known hosts.\n",
    "Password: \n",
    "\n",
    "R-KURO>enable\n",
    "Password: \n",
    "R-KURO#show run \n",
    "Building configuration...\n",
    "\n",
    "Current configuration : 1147 bytes\n",
    "!\n",
    "version 12.4\n",
    "service timestamps debug datetime msec\n",
    "service timestamps log datetime msec\n",
    "service password-encryption\n",
    "!\n",
    "hostname R-KURO\n",
    "!\n",
    "boot-start-marker\n",
    "boot-end-marker\n",
    "!\n",
    "enable secret 5 $1$7wyF$ZD0jkd1oGdaQd/OZvldf4/\n",
    "!\n",
    "aaa new-model\n",
    "!\n",
    "!\n",
    "aaa authentication enable default line\n",
    "!\n",
    "aaa session-id common\n",
    "memory-size iomem 5\n",
    "no ip icmp rate-limit unreachable\n",
    "ip cef\n",
    "!\n",
    "!         \n",
    "!\n",
    "!\n",
    "no ip domain lookup\n",
    "ip domain name mesnil.fr\n",
    "ip auth-proxy max-nodata-conns 3\n",
    "ip admission max-nodata-conns 3\n",
    "!\n",
    "!\n",
    "!\n",
    "!\n",
    "!\n",
    "!\n",
    "!\n",
    "!\n",
    "!\n",
    "!\n",
    "!\n",
    "!\n",
    "!\n",
    "!\n",
    "!\n",
    "!\n",
    "!\n",
    "username kuro secret 5 $1$w4Ds$wStfFKjO.88hMvUmwFT3u.\n",
    "!         \n",
    "!\n",
    "ip tcp synwait-time 5\n",
    "! \n",
    "!\n",
    "!\n",
    "!\n",
    "!\n",
    "interface FastEthernet0/0\n",
    " ip address 192.168.122.254 255.255.255.0\n",
    " duplex auto\n",
    " speed auto\n",
    "!\n",
    "interface FastEthernet0/1\n",
    " no ip address\n",
    " shutdown\n",
    " duplex auto\n",
    " speed auto\n",
    "!\n",
    "ip forward-protocol nd\n",
    "ip route 0.0.0.0 0.0.0.0 192.168.122.1\n",
    "!\n",
    "!\n",
    "no ip http server\n",
    "no ip http secure-server\n",
    "!         \n",
    "no cdp log mismatch duplex\n",
    "!\n",
    "!\n",
    "!\n",
    "control-plane\n",
    "!\n",
    "!\n",
    "!\n",
    "!\n",
    "!\n",
    "!\n",
    "!\n",
    "!\n",
    "!\n",
    "!\n",
    "line con 0\n",
    " exec-timeout 0 0\n",
    " privilege level 15\n",
    " logging synchronous\n",
    "line aux 0\n",
    " exec-timeout 0 0\n",
    " privilege level 15\n",
    " logging synchronous\n",
    "line vty 0 4\n",
    " password 7 030752180500\n",
    "!\n",
    "!\n",
    "end\n",
    "\n",
    "R-KURO#"
   ]
  }
 ],
 "metadata": {
  "kernelspec": {
   "display_name": "Python 3",
   "language": "python",
   "name": "python3"
  },
  "language_info": {
   "codemirror_mode": {
    "name": "ipython",
    "version": 3
   },
   "file_extension": ".py",
   "mimetype": "text/x-python",
   "name": "python",
   "nbconvert_exporter": "python",
   "pygments_lexer": "ipython3",
   "version": "3.7.2"
  },
  "varInspector": {
   "cols": {
    "lenName": 16,
    "lenType": 16,
    "lenVar": 40
   },
   "kernels_config": {
    "python": {
     "delete_cmd_postfix": "",
     "delete_cmd_prefix": "del ",
     "library": "var_list.py",
     "varRefreshCmd": "print(var_dic_list())"
    },
    "r": {
     "delete_cmd_postfix": ") ",
     "delete_cmd_prefix": "rm(",
     "library": "var_list.r",
     "varRefreshCmd": "cat(var_dic_list()) "
    }
   },
   "types_to_exclude": [
    "module",
    "function",
    "builtin_function_or_method",
    "instance",
    "_Feature"
   ],
   "window_display": false
  }
 },
 "nbformat": 4,
 "nbformat_minor": 2
}
